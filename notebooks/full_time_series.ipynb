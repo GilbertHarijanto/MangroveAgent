{
 "cells": [
  {
   "cell_type": "code",
   "execution_count": 1,
   "id": "b213c265-5518-44d5-a909-87b99d6b9ebd",
   "metadata": {},
   "outputs": [
    {
     "name": "stdout",
     "output_type": "stream",
     "text": [
      "full_time_series.ipynb meteor_full.csv        tide_full.csv\n",
      "mangrove_data_full.csv ndvi_full.csv          turbidity_full.tsv\n"
     ]
    }
   ],
   "source": [
    "!ls"
   ]
  },
  {
   "cell_type": "code",
   "execution_count": 2,
   "id": "473b5c6c-6aca-4235-9b1c-7c28ed50e38b",
   "metadata": {},
   "outputs": [],
   "source": [
    "import pandas as pd\n",
    "import numpy as np\n",
    "import matplotlib.pyplot as plt\n",
    "import pytz"
   ]
  },
  {
   "cell_type": "markdown",
   "id": "c5883f4d-316d-4a55-b122-6cc9fff70085",
   "metadata": {},
   "source": [
    "# Tide"
   ]
  },
  {
   "cell_type": "code",
   "execution_count": 3,
   "id": "af63ee5c-9096-485b-b143-3f9b1e633ece",
   "metadata": {},
   "outputs": [
    {
     "name": "stderr",
     "output_type": "stream",
     "text": [
      "/var/folders/y6/t72z56_96cdd7h4ccqzktsh40000gn/T/ipykernel_31259/2387172433.py:1: DtypeWarning: Columns (3) have mixed types. Specify dtype option on import or set low_memory=False.\n",
      "  tide = pd.read_csv(\"tide_full.csv\")\n"
     ]
    }
   ],
   "source": [
    "tide = pd.read_csv(\"tide_full.csv\")\n",
    "\n",
    "# Rename columns for clarity\n",
    "tide = tide.rename(columns={\n",
    "    'Predicted (ft)': 'tide_predicted',\n",
    "    'Preliminary (ft)': 'tide_preliminary',\n",
    "    'Verified (ft)': 'tide_verified'\n",
    "})"
   ]
  },
  {
   "cell_type": "code",
   "execution_count": 4,
   "id": "a078f6fe-3ccb-4c25-82dc-b9f690853cec",
   "metadata": {},
   "outputs": [
    {
     "data": {
      "text/html": [
       "<div>\n",
       "<style scoped>\n",
       "    .dataframe tbody tr th:only-of-type {\n",
       "        vertical-align: middle;\n",
       "    }\n",
       "\n",
       "    .dataframe tbody tr th {\n",
       "        vertical-align: top;\n",
       "    }\n",
       "\n",
       "    .dataframe thead th {\n",
       "        text-align: right;\n",
       "    }\n",
       "</style>\n",
       "<table border=\"1\" class=\"dataframe\">\n",
       "  <thead>\n",
       "    <tr style=\"text-align: right;\">\n",
       "      <th></th>\n",
       "      <th>Date</th>\n",
       "      <th>Time (GMT)</th>\n",
       "      <th>tide_predicted</th>\n",
       "      <th>tide_verified</th>\n",
       "    </tr>\n",
       "  </thead>\n",
       "  <tbody>\n",
       "    <tr>\n",
       "      <th>0</th>\n",
       "      <td>1/15/08</td>\n",
       "      <td>0:00</td>\n",
       "      <td>0.692</td>\n",
       "      <td>0.1</td>\n",
       "    </tr>\n",
       "    <tr>\n",
       "      <th>1</th>\n",
       "      <td>1/15/08</td>\n",
       "      <td>1:00</td>\n",
       "      <td>0.751</td>\n",
       "      <td>0.2</td>\n",
       "    </tr>\n",
       "    <tr>\n",
       "      <th>2</th>\n",
       "      <td>1/15/08</td>\n",
       "      <td>2:00</td>\n",
       "      <td>0.699</td>\n",
       "      <td>0.15</td>\n",
       "    </tr>\n",
       "    <tr>\n",
       "      <th>3</th>\n",
       "      <td>1/15/08</td>\n",
       "      <td>3:00</td>\n",
       "      <td>0.550</td>\n",
       "      <td>0.02</td>\n",
       "    </tr>\n",
       "    <tr>\n",
       "      <th>4</th>\n",
       "      <td>1/15/08</td>\n",
       "      <td>4:00</td>\n",
       "      <td>0.352</td>\n",
       "      <td>-0.09</td>\n",
       "    </tr>\n",
       "  </tbody>\n",
       "</table>\n",
       "</div>"
      ],
      "text/plain": [
       "      Date Time (GMT)  tide_predicted tide_verified\n",
       "0  1/15/08       0:00           0.692           0.1\n",
       "1  1/15/08       1:00           0.751           0.2\n",
       "2  1/15/08       2:00           0.699          0.15\n",
       "3  1/15/08       3:00           0.550          0.02\n",
       "4  1/15/08       4:00           0.352         -0.09"
      ]
     },
     "execution_count": 4,
     "metadata": {},
     "output_type": "execute_result"
    }
   ],
   "source": [
    "tide.head()"
   ]
  },
  {
   "cell_type": "code",
   "execution_count": 5,
   "id": "175c880c-2fb6-4361-ba05-90a1ed494dab",
   "metadata": {},
   "outputs": [
    {
     "name": "stdout",
     "output_type": "stream",
     "text": [
      "<class 'pandas.core.frame.DataFrame'>\n",
      "RangeIndex: 150120 entries, 0 to 150119\n",
      "Data columns (total 4 columns):\n",
      " #   Column          Non-Null Count   Dtype  \n",
      "---  ------          --------------   -----  \n",
      " 0   Date            150120 non-null  object \n",
      " 1   Time (GMT)      150120 non-null  object \n",
      " 2   tide_predicted  150120 non-null  float64\n",
      " 3   tide_verified   150120 non-null  object \n",
      "dtypes: float64(1), object(3)\n",
      "memory usage: 4.6+ MB\n"
     ]
    }
   ],
   "source": [
    "tide.info()"
   ]
  },
  {
   "cell_type": "code",
   "execution_count": 6,
   "id": "7e655dde-d4e9-4f5f-9963-148dec7d368c",
   "metadata": {},
   "outputs": [
    {
     "name": "stderr",
     "output_type": "stream",
     "text": [
      "/var/folders/y6/t72z56_96cdd7h4ccqzktsh40000gn/T/ipykernel_31259/1724052204.py:2: UserWarning: Could not infer format, so each element will be parsed individually, falling back to `dateutil`. To ensure parsing is consistent and as-expected, please specify a format.\n",
      "  tide['datetime'] = pd.to_datetime(\n"
     ]
    }
   ],
   "source": [
    "# Combine date and time into a single datetime column\n",
    "tide['datetime'] = pd.to_datetime(\n",
    "    tide['Date'] + ' ' + tide['Time (GMT)']\n",
    ")\n",
    "\n",
    "utc = pytz.timezone('UTC')  # Using UTC instead of GMT for consistency\n",
    "# Localize to UTC timezone\n",
    "tide['datetime_with_tz'] = tide['datetime'].dt.tz_localize(utc)\n",
    "\n",
    "# Filter out any rows with parsing errors\n",
    "tide = tide.dropna(subset=['datetime'])\n",
    "\n",
    "\n",
    "# Convert tide data columns to numeric\n",
    "for col in ['tide_predicted', 'tide_verified']:\n",
    "    if col in tide.columns:\n",
    "        tide[col] = pd.to_numeric(tide[col], errors='coerce')\n",
    "\n",
    "# Drop unnecessary columns\n",
    "tide = tide.drop(['Date', 'Time (GMT)', 'datetime'], axis=1)"
   ]
  },
  {
   "cell_type": "code",
   "execution_count": 7,
   "id": "404ca1f1-9fcb-4504-95d6-bd16d61df06b",
   "metadata": {},
   "outputs": [],
   "source": [
    "tide = tide[tide['tide_verified']!= \"-\"]\n",
    "tide['tide_verified'] = tide['tide_verified'].astype(float)"
   ]
  },
  {
   "cell_type": "code",
   "execution_count": 8,
   "id": "8b1bfcff-b552-480d-acac-cc28b8569f52",
   "metadata": {},
   "outputs": [],
   "source": [
    "tide = tide[~tide['tide_verified'].isnull()]"
   ]
  },
  {
   "cell_type": "code",
   "execution_count": 9,
   "id": "a6c246b3-727f-48e2-94c9-0ebfd78b6382",
   "metadata": {},
   "outputs": [],
   "source": [
    "tide = tide.drop(columns={'tide_predicted'})"
   ]
  },
  {
   "cell_type": "code",
   "execution_count": 10,
   "id": "a20dba46-3279-44a1-a73d-840d5d0177f4",
   "metadata": {},
   "outputs": [
    {
     "data": {
      "text/html": [
       "<div>\n",
       "<style scoped>\n",
       "    .dataframe tbody tr th:only-of-type {\n",
       "        vertical-align: middle;\n",
       "    }\n",
       "\n",
       "    .dataframe tbody tr th {\n",
       "        vertical-align: top;\n",
       "    }\n",
       "\n",
       "    .dataframe thead th {\n",
       "        text-align: right;\n",
       "    }\n",
       "</style>\n",
       "<table border=\"1\" class=\"dataframe\">\n",
       "  <thead>\n",
       "    <tr style=\"text-align: right;\">\n",
       "      <th></th>\n",
       "      <th>tide_verified</th>\n",
       "      <th>datetime_with_tz</th>\n",
       "    </tr>\n",
       "  </thead>\n",
       "  <tbody>\n",
       "    <tr>\n",
       "      <th>0</th>\n",
       "      <td>0.10</td>\n",
       "      <td>2008-01-15 00:00:00+00:00</td>\n",
       "    </tr>\n",
       "    <tr>\n",
       "      <th>1</th>\n",
       "      <td>0.20</td>\n",
       "      <td>2008-01-15 01:00:00+00:00</td>\n",
       "    </tr>\n",
       "    <tr>\n",
       "      <th>2</th>\n",
       "      <td>0.15</td>\n",
       "      <td>2008-01-15 02:00:00+00:00</td>\n",
       "    </tr>\n",
       "    <tr>\n",
       "      <th>3</th>\n",
       "      <td>0.02</td>\n",
       "      <td>2008-01-15 03:00:00+00:00</td>\n",
       "    </tr>\n",
       "    <tr>\n",
       "      <th>4</th>\n",
       "      <td>-0.09</td>\n",
       "      <td>2008-01-15 04:00:00+00:00</td>\n",
       "    </tr>\n",
       "  </tbody>\n",
       "</table>\n",
       "</div>"
      ],
      "text/plain": [
       "   tide_verified          datetime_with_tz\n",
       "0           0.10 2008-01-15 00:00:00+00:00\n",
       "1           0.20 2008-01-15 01:00:00+00:00\n",
       "2           0.15 2008-01-15 02:00:00+00:00\n",
       "3           0.02 2008-01-15 03:00:00+00:00\n",
       "4          -0.09 2008-01-15 04:00:00+00:00"
      ]
     },
     "execution_count": 10,
     "metadata": {},
     "output_type": "execute_result"
    }
   ],
   "source": [
    "tide.head()"
   ]
  },
  {
   "cell_type": "code",
   "execution_count": 11,
   "id": "04868bd1-d7c0-4fda-95ab-6d0c5b1b628e",
   "metadata": {},
   "outputs": [
    {
     "name": "stdout",
     "output_type": "stream",
     "text": [
      "<class 'pandas.core.frame.DataFrame'>\n",
      "Index: 148309 entries, 0 to 150119\n",
      "Data columns (total 2 columns):\n",
      " #   Column            Non-Null Count   Dtype              \n",
      "---  ------            --------------   -----              \n",
      " 0   tide_verified     148309 non-null  float64            \n",
      " 1   datetime_with_tz  148309 non-null  datetime64[ns, UTC]\n",
      "dtypes: datetime64[ns, UTC](1), float64(1)\n",
      "memory usage: 3.4 MB\n"
     ]
    }
   ],
   "source": [
    "tide.info()"
   ]
  },
  {
   "cell_type": "markdown",
   "id": "cc09853b-a9a0-4324-acf9-6f810172d695",
   "metadata": {},
   "source": [
    "# Meteor"
   ]
  },
  {
   "cell_type": "code",
   "execution_count": 12,
   "id": "27df77f6-7ae5-4fe5-902e-5b263a376fbb",
   "metadata": {},
   "outputs": [],
   "source": [
    "meteor = pd.read_csv('meteor_full.csv')\n",
    "\n",
    "# Rename columns for clarity\n",
    "meteor = meteor.rename(columns={\n",
    "    'Wind Speed (kn)': 'wind_speed',\n",
    "    'Wind Dir (deg)': 'wind_direction',\n",
    "    'Wind Gust (kn)': 'wind_gust',\n",
    "    'Air Temp (¬∞F)': 'air_temp',\n",
    "})"
   ]
  },
  {
   "cell_type": "code",
   "execution_count": 13,
   "id": "1ac3f84b-ae42-4b67-b065-857660e50194",
   "metadata": {},
   "outputs": [
    {
     "data": {
      "text/html": [
       "<div>\n",
       "<style scoped>\n",
       "    .dataframe tbody tr th:only-of-type {\n",
       "        vertical-align: middle;\n",
       "    }\n",
       "\n",
       "    .dataframe tbody tr th {\n",
       "        vertical-align: top;\n",
       "    }\n",
       "\n",
       "    .dataframe thead th {\n",
       "        text-align: right;\n",
       "    }\n",
       "</style>\n",
       "<table border=\"1\" class=\"dataframe\">\n",
       "  <thead>\n",
       "    <tr style=\"text-align: right;\">\n",
       "      <th></th>\n",
       "      <th>Date</th>\n",
       "      <th>Time (GMT)</th>\n",
       "      <th>wind_speed</th>\n",
       "      <th>wind_direction</th>\n",
       "      <th>wind_gust</th>\n",
       "      <th>air_temp</th>\n",
       "    </tr>\n",
       "  </thead>\n",
       "  <tbody>\n",
       "    <tr>\n",
       "      <th>0</th>\n",
       "      <td>12/28/13</td>\n",
       "      <td>0:00</td>\n",
       "      <td>9.33</td>\n",
       "      <td>75</td>\n",
       "      <td>12.83</td>\n",
       "      <td>76.8</td>\n",
       "    </tr>\n",
       "    <tr>\n",
       "      <th>1</th>\n",
       "      <td>12/28/13</td>\n",
       "      <td>1:00</td>\n",
       "      <td>10.3</td>\n",
       "      <td>75</td>\n",
       "      <td>13.8</td>\n",
       "      <td>77</td>\n",
       "    </tr>\n",
       "    <tr>\n",
       "      <th>2</th>\n",
       "      <td>12/28/13</td>\n",
       "      <td>2:00</td>\n",
       "      <td>7.97</td>\n",
       "      <td>73</td>\n",
       "      <td>11.08</td>\n",
       "      <td>76.8</td>\n",
       "    </tr>\n",
       "    <tr>\n",
       "      <th>3</th>\n",
       "      <td>12/28/13</td>\n",
       "      <td>3:00</td>\n",
       "      <td>8.55</td>\n",
       "      <td>71</td>\n",
       "      <td>10.5</td>\n",
       "      <td>76.8</td>\n",
       "    </tr>\n",
       "    <tr>\n",
       "      <th>4</th>\n",
       "      <td>12/28/13</td>\n",
       "      <td>4:00</td>\n",
       "      <td>9.52</td>\n",
       "      <td>72</td>\n",
       "      <td>12.83</td>\n",
       "      <td>77</td>\n",
       "    </tr>\n",
       "  </tbody>\n",
       "</table>\n",
       "</div>"
      ],
      "text/plain": [
       "       Date Time (GMT) wind_speed wind_direction wind_gust air_temp\n",
       "0  12/28/13       0:00       9.33             75     12.83     76.8\n",
       "1  12/28/13       1:00       10.3             75      13.8       77\n",
       "2  12/28/13       2:00       7.97             73     11.08     76.8\n",
       "3  12/28/13       3:00       8.55             71      10.5     76.8\n",
       "4  12/28/13       4:00       9.52             72     12.83       77"
      ]
     },
     "execution_count": 13,
     "metadata": {},
     "output_type": "execute_result"
    }
   ],
   "source": [
    "meteor.head()"
   ]
  },
  {
   "cell_type": "code",
   "execution_count": 14,
   "id": "d56af63a-6c98-4048-a423-6f389fa3d251",
   "metadata": {},
   "outputs": [
    {
     "name": "stderr",
     "output_type": "stream",
     "text": [
      "/var/folders/y6/t72z56_96cdd7h4ccqzktsh40000gn/T/ipykernel_31259/215229412.py:2: UserWarning: Could not infer format, so each element will be parsed individually, falling back to `dateutil`. To ensure parsing is consistent and as-expected, please specify a format.\n",
      "  meteor['datetime'] = pd.to_datetime(\n"
     ]
    }
   ],
   "source": [
    "# Combine date and time into a single datetime column\n",
    "meteor['datetime'] = pd.to_datetime(\n",
    "    meteor['Date'] + ' ' + meteor['Time (GMT)']\n",
    ")\n",
    "\n",
    "utc = pytz.timezone('UTC')  # Using UTC instead of GMT for consistency\n",
    "# Localize to UTC timezone\n",
    "meteor['datetime_with_tz'] = meteor['datetime'].dt.tz_localize(utc)\n",
    "\n",
    "# Filter out any rows with parsing errors\n",
    "meteor = meteor.dropna(subset=['datetime'])\n",
    "\n",
    "\n",
    "# Convert tide data columns to numeric\n",
    "for col in ['wind_speed', 'wind_direction', 'wind_gust', 'air_temp']:\n",
    "    if col in meteor.columns:\n",
    "        meteor[col] = pd.to_numeric(meteor[col], errors='coerce')\n",
    "\n",
    "# Drop unnecessary columns\n",
    "meteor = meteor.drop(['wind_direction', 'wind_gust', 'air_temp', 'Date', 'Time (GMT)', 'datetime'], axis=1)"
   ]
  },
  {
   "cell_type": "code",
   "execution_count": 15,
   "id": "e6180d5b-f7d2-4a5e-8ad0-14214bea1ff1",
   "metadata": {},
   "outputs": [
    {
     "data": {
      "text/html": [
       "<div>\n",
       "<style scoped>\n",
       "    .dataframe tbody tr th:only-of-type {\n",
       "        vertical-align: middle;\n",
       "    }\n",
       "\n",
       "    .dataframe tbody tr th {\n",
       "        vertical-align: top;\n",
       "    }\n",
       "\n",
       "    .dataframe thead th {\n",
       "        text-align: right;\n",
       "    }\n",
       "</style>\n",
       "<table border=\"1\" class=\"dataframe\">\n",
       "  <thead>\n",
       "    <tr style=\"text-align: right;\">\n",
       "      <th></th>\n",
       "      <th>wind_speed</th>\n",
       "      <th>datetime_with_tz</th>\n",
       "    </tr>\n",
       "  </thead>\n",
       "  <tbody>\n",
       "    <tr>\n",
       "      <th>0</th>\n",
       "      <td>9.33</td>\n",
       "      <td>2013-12-28 00:00:00+00:00</td>\n",
       "    </tr>\n",
       "    <tr>\n",
       "      <th>1</th>\n",
       "      <td>10.30</td>\n",
       "      <td>2013-12-28 01:00:00+00:00</td>\n",
       "    </tr>\n",
       "    <tr>\n",
       "      <th>2</th>\n",
       "      <td>7.97</td>\n",
       "      <td>2013-12-28 02:00:00+00:00</td>\n",
       "    </tr>\n",
       "    <tr>\n",
       "      <th>3</th>\n",
       "      <td>8.55</td>\n",
       "      <td>2013-12-28 03:00:00+00:00</td>\n",
       "    </tr>\n",
       "    <tr>\n",
       "      <th>4</th>\n",
       "      <td>9.52</td>\n",
       "      <td>2013-12-28 04:00:00+00:00</td>\n",
       "    </tr>\n",
       "  </tbody>\n",
       "</table>\n",
       "</div>"
      ],
      "text/plain": [
       "   wind_speed          datetime_with_tz\n",
       "0        9.33 2013-12-28 00:00:00+00:00\n",
       "1       10.30 2013-12-28 01:00:00+00:00\n",
       "2        7.97 2013-12-28 02:00:00+00:00\n",
       "3        8.55 2013-12-28 03:00:00+00:00\n",
       "4        9.52 2013-12-28 04:00:00+00:00"
      ]
     },
     "execution_count": 15,
     "metadata": {},
     "output_type": "execute_result"
    }
   ],
   "source": [
    "meteor.head()"
   ]
  },
  {
   "cell_type": "code",
   "execution_count": 16,
   "id": "5fc55d59-a38b-40b8-940c-8d4ecbbd37bc",
   "metadata": {},
   "outputs": [
    {
     "name": "stdout",
     "output_type": "stream",
     "text": [
      "<class 'pandas.core.frame.DataFrame'>\n",
      "RangeIndex: 97944 entries, 0 to 97943\n",
      "Data columns (total 2 columns):\n",
      " #   Column            Non-Null Count  Dtype              \n",
      "---  ------            --------------  -----              \n",
      " 0   wind_speed        91635 non-null  float64            \n",
      " 1   datetime_with_tz  97944 non-null  datetime64[ns, UTC]\n",
      "dtypes: datetime64[ns, UTC](1), float64(1)\n",
      "memory usage: 1.5 MB\n"
     ]
    }
   ],
   "source": [
    "meteor.info()"
   ]
  },
  {
   "cell_type": "markdown",
   "id": "4c46c967-1c8f-4c98-af67-40a38f9b79b6",
   "metadata": {},
   "source": [
    "# Turbidity"
   ]
  },
  {
   "cell_type": "code",
   "execution_count": 17,
   "id": "8ffd0bb7-b072-4250-b5e3-83cc1353620a",
   "metadata": {},
   "outputs": [
    {
     "name": "stderr",
     "output_type": "stream",
     "text": [
      "/var/folders/y6/t72z56_96cdd7h4ccqzktsh40000gn/T/ipykernel_31259/3070442791.py:1: DtypeWarning: Columns (5,7) have mixed types. Specify dtype option on import or set low_memory=False.\n",
      "  turbidity = pd.read_csv('turbidity_full.tsv', sep='\\t')\n"
     ]
    }
   ],
   "source": [
    "turbidity = pd.read_csv('turbidity_full.tsv', sep='\\t')"
   ]
  },
  {
   "cell_type": "code",
   "execution_count": 18,
   "id": "58f5f944-864e-4e30-b424-7f5b6e44a020",
   "metadata": {},
   "outputs": [],
   "source": [
    "turbidity['249887_63680'] = np.where(\n",
    "    pd.isna(turbidity['249887_63680']),\n",
    "    turbidity['170441_63680'],\n",
    "    turbidity['249887_63680']\n",
    ")"
   ]
  },
  {
   "cell_type": "code",
   "execution_count": 19,
   "id": "d28cd386-e026-4c94-8e69-a21c7b0374f5",
   "metadata": {},
   "outputs": [],
   "source": [
    "turbidity = turbidity.drop(columns={'agency_cd', 'site_no', '170441_63680_cd', '249887_63680_cd', '170441_63680'})\n",
    "turbidity = turbidity.rename(columns={\"249887_63680\": \"turbidity\"})"
   ]
  },
  {
   "cell_type": "code",
   "execution_count": 20,
   "id": "cb6a9053-3d83-41f2-9c25-0c089b21086f",
   "metadata": {},
   "outputs": [
    {
     "data": {
      "text/html": [
       "<div>\n",
       "<style scoped>\n",
       "    .dataframe tbody tr th:only-of-type {\n",
       "        vertical-align: middle;\n",
       "    }\n",
       "\n",
       "    .dataframe tbody tr th {\n",
       "        vertical-align: top;\n",
       "    }\n",
       "\n",
       "    .dataframe thead th {\n",
       "        text-align: right;\n",
       "    }\n",
       "</style>\n",
       "<table border=\"1\" class=\"dataframe\">\n",
       "  <thead>\n",
       "    <tr style=\"text-align: right;\">\n",
       "      <th></th>\n",
       "      <th>datetime</th>\n",
       "      <th>tz_cd</th>\n",
       "      <th>turbidity</th>\n",
       "    </tr>\n",
       "  </thead>\n",
       "  <tbody>\n",
       "    <tr>\n",
       "      <th>0</th>\n",
       "      <td>2014-05-01 19:30</td>\n",
       "      <td>EDT</td>\n",
       "      <td>1.9</td>\n",
       "    </tr>\n",
       "    <tr>\n",
       "      <th>1</th>\n",
       "      <td>2014-05-01 19:45</td>\n",
       "      <td>EDT</td>\n",
       "      <td>2.2</td>\n",
       "    </tr>\n",
       "    <tr>\n",
       "      <th>2</th>\n",
       "      <td>2014-05-01 20:00</td>\n",
       "      <td>EDT</td>\n",
       "      <td>2.1</td>\n",
       "    </tr>\n",
       "    <tr>\n",
       "      <th>3</th>\n",
       "      <td>2014-05-01 20:15</td>\n",
       "      <td>EDT</td>\n",
       "      <td>2.1</td>\n",
       "    </tr>\n",
       "    <tr>\n",
       "      <th>4</th>\n",
       "      <td>2014-05-01 20:30</td>\n",
       "      <td>EDT</td>\n",
       "      <td>2.1</td>\n",
       "    </tr>\n",
       "  </tbody>\n",
       "</table>\n",
       "</div>"
      ],
      "text/plain": [
       "           datetime tz_cd  turbidity\n",
       "0  2014-05-01 19:30   EDT        1.9\n",
       "1  2014-05-01 19:45   EDT        2.2\n",
       "2  2014-05-01 20:00   EDT        2.1\n",
       "3  2014-05-01 20:15   EDT        2.1\n",
       "4  2014-05-01 20:30   EDT        2.1"
      ]
     },
     "metadata": {},
     "output_type": "display_data"
    },
    {
     "data": {
      "text/html": [
       "<div>\n",
       "<style scoped>\n",
       "    .dataframe tbody tr th:only-of-type {\n",
       "        vertical-align: middle;\n",
       "    }\n",
       "\n",
       "    .dataframe tbody tr th {\n",
       "        vertical-align: top;\n",
       "    }\n",
       "\n",
       "    .dataframe thead th {\n",
       "        text-align: right;\n",
       "    }\n",
       "</style>\n",
       "<table border=\"1\" class=\"dataframe\">\n",
       "  <thead>\n",
       "    <tr style=\"text-align: right;\">\n",
       "      <th></th>\n",
       "      <th>datetime</th>\n",
       "      <th>tz_cd</th>\n",
       "      <th>turbidity</th>\n",
       "    </tr>\n",
       "  </thead>\n",
       "  <tbody>\n",
       "    <tr>\n",
       "      <th>374397</th>\n",
       "      <td>2025-03-24 17:15</td>\n",
       "      <td>EDT</td>\n",
       "      <td>5.6</td>\n",
       "    </tr>\n",
       "    <tr>\n",
       "      <th>374398</th>\n",
       "      <td>2025-03-24 17:30</td>\n",
       "      <td>EDT</td>\n",
       "      <td>5.5</td>\n",
       "    </tr>\n",
       "    <tr>\n",
       "      <th>374399</th>\n",
       "      <td>2025-03-24 17:45</td>\n",
       "      <td>EDT</td>\n",
       "      <td>5.5</td>\n",
       "    </tr>\n",
       "    <tr>\n",
       "      <th>374400</th>\n",
       "      <td>2025-03-24 18:00</td>\n",
       "      <td>EDT</td>\n",
       "      <td>5.4</td>\n",
       "    </tr>\n",
       "    <tr>\n",
       "      <th>374401</th>\n",
       "      <td>2025-03-24 18:15</td>\n",
       "      <td>EDT</td>\n",
       "      <td>5.6</td>\n",
       "    </tr>\n",
       "  </tbody>\n",
       "</table>\n",
       "</div>"
      ],
      "text/plain": [
       "                datetime tz_cd  turbidity\n",
       "374397  2025-03-24 17:15   EDT        5.6\n",
       "374398  2025-03-24 17:30   EDT        5.5\n",
       "374399  2025-03-24 17:45   EDT        5.5\n",
       "374400  2025-03-24 18:00   EDT        5.4\n",
       "374401  2025-03-24 18:15   EDT        5.6"
      ]
     },
     "metadata": {},
     "output_type": "display_data"
    }
   ],
   "source": [
    "display(turbidity.head())\n",
    "display(turbidity.tail())"
   ]
  },
  {
   "cell_type": "code",
   "execution_count": 21,
   "id": "8d5d9d83-82c2-4273-9e40-22896a691d7c",
   "metadata": {},
   "outputs": [
    {
     "name": "stdout",
     "output_type": "stream",
     "text": [
      "<class 'pandas.core.frame.DataFrame'>\n",
      "RangeIndex: 374402 entries, 0 to 374401\n",
      "Data columns (total 3 columns):\n",
      " #   Column     Non-Null Count   Dtype  \n",
      "---  ------     --------------   -----  \n",
      " 0   datetime   374402 non-null  object \n",
      " 1   tz_cd      374402 non-null  object \n",
      " 2   turbidity  374402 non-null  float64\n",
      "dtypes: float64(1), object(2)\n",
      "memory usage: 8.6+ MB\n"
     ]
    }
   ],
   "source": [
    "turbidity.info()"
   ]
  },
  {
   "cell_type": "code",
   "execution_count": 22,
   "id": "6eac3154-d2a4-46a0-aab6-3a676ab0a261",
   "metadata": {},
   "outputs": [],
   "source": [
    "# 3. STANDARDIZE TIMESTAMPS FOR HYDROLOGICAL DATA\n",
    "def standardize_timestamps(df):\n",
    "    \"\"\"\n",
    "    Create timezone-aware timestamps, handling EST/EDT correctly\n",
    "    \"\"\"\n",
    "    df = df.copy()\n",
    "    \n",
    "    def localize_datetime(row):\n",
    "        # Create a naive datetime object\n",
    "        dt = pd.to_datetime(row['datetime'])\n",
    "        tz_code = row['tz_cd']\n",
    "        \n",
    "        # Create naive datetime\n",
    "        naive_dt = pd.Timestamp(dt.year, dt.month, dt.day, dt.hour, dt.minute, dt.second)\n",
    "        \n",
    "        # Apply the specific UTC offset based on the timezone code\n",
    "        if tz_code == 'EDT':\n",
    "            # EDT is UTC-4\n",
    "            return naive_dt.tz_localize(pytz.FixedOffset(-4*60))\n",
    "        elif tz_code == 'EST':\n",
    "            # EST is UTC-5\n",
    "            return naive_dt.tz_localize(pytz.FixedOffset(-5*60))\n",
    "        else:\n",
    "            # Default case\n",
    "            return naive_dt\n",
    "    \n",
    "    # Apply the function to create timezone-aware datetimes\n",
    "    df['datetime_with_tz'] = df.apply(localize_datetime, axis=1)\n",
    "    \n",
    "    return df"
   ]
  },
  {
   "cell_type": "code",
   "execution_count": 23,
   "id": "03ca5c38-443a-4837-88c1-5f397b6b3c40",
   "metadata": {},
   "outputs": [],
   "source": [
    "turbidity = standardize_timestamps(turbidity)"
   ]
  },
  {
   "cell_type": "code",
   "execution_count": 24,
   "id": "e3f794ea-e3fe-4c49-a8e6-c95d61f71fe6",
   "metadata": {},
   "outputs": [
    {
     "name": "stdout",
     "output_type": "stream",
     "text": [
      "Duplicates in turbidity: 0\n"
     ]
    }
   ],
   "source": [
    "print(f\"Duplicates in turbidity: {turbidity['datetime_with_tz'].duplicated().sum()}\")"
   ]
  },
  {
   "cell_type": "code",
   "execution_count": 25,
   "id": "8b7c2ea2-3a37-4f4b-83b8-80a4ddb672f1",
   "metadata": {},
   "outputs": [],
   "source": [
    "turbidity = turbidity.drop(columns={'datetime', 'tz_cd'})\n",
    "turbidity['datetime_with_tz'] = pd.to_datetime(turbidity['datetime_with_tz'], utc=True)"
   ]
  },
  {
   "cell_type": "code",
   "execution_count": 26,
   "id": "25aadb47-486f-4081-af76-dd304f802cff",
   "metadata": {},
   "outputs": [
    {
     "data": {
      "text/html": [
       "<div>\n",
       "<style scoped>\n",
       "    .dataframe tbody tr th:only-of-type {\n",
       "        vertical-align: middle;\n",
       "    }\n",
       "\n",
       "    .dataframe tbody tr th {\n",
       "        vertical-align: top;\n",
       "    }\n",
       "\n",
       "    .dataframe thead th {\n",
       "        text-align: right;\n",
       "    }\n",
       "</style>\n",
       "<table border=\"1\" class=\"dataframe\">\n",
       "  <thead>\n",
       "    <tr style=\"text-align: right;\">\n",
       "      <th></th>\n",
       "      <th>turbidity</th>\n",
       "      <th>datetime_with_tz</th>\n",
       "    </tr>\n",
       "  </thead>\n",
       "  <tbody>\n",
       "    <tr>\n",
       "      <th>0</th>\n",
       "      <td>1.9</td>\n",
       "      <td>2014-05-01 23:30:00+00:00</td>\n",
       "    </tr>\n",
       "    <tr>\n",
       "      <th>1</th>\n",
       "      <td>2.2</td>\n",
       "      <td>2014-05-01 23:45:00+00:00</td>\n",
       "    </tr>\n",
       "    <tr>\n",
       "      <th>2</th>\n",
       "      <td>2.1</td>\n",
       "      <td>2014-05-02 00:00:00+00:00</td>\n",
       "    </tr>\n",
       "    <tr>\n",
       "      <th>3</th>\n",
       "      <td>2.1</td>\n",
       "      <td>2014-05-02 00:15:00+00:00</td>\n",
       "    </tr>\n",
       "    <tr>\n",
       "      <th>4</th>\n",
       "      <td>2.1</td>\n",
       "      <td>2014-05-02 00:30:00+00:00</td>\n",
       "    </tr>\n",
       "  </tbody>\n",
       "</table>\n",
       "</div>"
      ],
      "text/plain": [
       "   turbidity          datetime_with_tz\n",
       "0        1.9 2014-05-01 23:30:00+00:00\n",
       "1        2.2 2014-05-01 23:45:00+00:00\n",
       "2        2.1 2014-05-02 00:00:00+00:00\n",
       "3        2.1 2014-05-02 00:15:00+00:00\n",
       "4        2.1 2014-05-02 00:30:00+00:00"
      ]
     },
     "execution_count": 26,
     "metadata": {},
     "output_type": "execute_result"
    }
   ],
   "source": [
    "turbidity.head()"
   ]
  },
  {
   "cell_type": "code",
   "execution_count": 27,
   "id": "2ae983ec-80a6-4013-8bf5-2c9e8f284b40",
   "metadata": {},
   "outputs": [
    {
     "name": "stdout",
     "output_type": "stream",
     "text": [
      "<class 'pandas.core.frame.DataFrame'>\n",
      "RangeIndex: 374402 entries, 0 to 374401\n",
      "Data columns (total 2 columns):\n",
      " #   Column            Non-Null Count   Dtype              \n",
      "---  ------            --------------   -----              \n",
      " 0   turbidity         374402 non-null  float64            \n",
      " 1   datetime_with_tz  374402 non-null  datetime64[ns, UTC]\n",
      "dtypes: datetime64[ns, UTC](1), float64(1)\n",
      "memory usage: 5.7 MB\n"
     ]
    }
   ],
   "source": [
    "turbidity.info()"
   ]
  },
  {
   "cell_type": "markdown",
   "id": "c27b02f4-fa0c-443d-a23e-aa16d65a64db",
   "metadata": {},
   "source": [
    "# Data Cleaning"
   ]
  },
  {
   "cell_type": "code",
   "execution_count": 28,
   "id": "46466f5a-3d43-4d2f-8ad0-fdbc07aeff41",
   "metadata": {},
   "outputs": [],
   "source": [
    "tide['date'] = tide['datetime_with_tz'].dt.date\n",
    "meteor['date'] = meteor['datetime_with_tz'].dt.date\n",
    "turbidity['date'] = turbidity['datetime_with_tz'].dt.date"
   ]
  },
  {
   "cell_type": "code",
   "execution_count": 29,
   "id": "70cf7116-1a8c-4a5e-8757-3cbf002dba7d",
   "metadata": {},
   "outputs": [],
   "source": [
    "# Group by date and calculate mean for numeric columns\n",
    "tide = tide.groupby('date').mean(numeric_only=True)\n",
    "meteor = meteor.groupby('date').mean(numeric_only=True)\n",
    "turbidity = turbidity.groupby('date').mean(numeric_only=True)\n",
    "\n",
    "\n",
    "# Reset index to make date a column again\n",
    "tide = tide.reset_index()\n",
    "meteor = meteor.reset_index()\n",
    "turbidity = turbidity.reset_index()\n",
    "\n",
    "tide['date'] = pd.to_datetime(tide['date'])\n",
    "meteor['date'] = pd.to_datetime(meteor['date'])\n",
    "turbidity['date'] = pd.to_datetime(turbidity['date'])"
   ]
  },
  {
   "cell_type": "code",
   "execution_count": 30,
   "id": "0063e94f-322d-48b0-9720-3f34e448ddcc",
   "metadata": {},
   "outputs": [
    {
     "data": {
      "text/html": [
       "<div>\n",
       "<style scoped>\n",
       "    .dataframe tbody tr th:only-of-type {\n",
       "        vertical-align: middle;\n",
       "    }\n",
       "\n",
       "    .dataframe tbody tr th {\n",
       "        vertical-align: top;\n",
       "    }\n",
       "\n",
       "    .dataframe thead th {\n",
       "        text-align: right;\n",
       "    }\n",
       "</style>\n",
       "<table border=\"1\" class=\"dataframe\">\n",
       "  <thead>\n",
       "    <tr style=\"text-align: right;\">\n",
       "      <th></th>\n",
       "      <th>date</th>\n",
       "      <th>tide_verified</th>\n",
       "    </tr>\n",
       "  </thead>\n",
       "  <tbody>\n",
       "    <tr>\n",
       "      <th>0</th>\n",
       "      <td>2008-01-15</td>\n",
       "      <td>-0.416250</td>\n",
       "    </tr>\n",
       "    <tr>\n",
       "      <th>1</th>\n",
       "      <td>2008-01-16</td>\n",
       "      <td>-0.357083</td>\n",
       "    </tr>\n",
       "    <tr>\n",
       "      <th>2</th>\n",
       "      <td>2008-01-17</td>\n",
       "      <td>0.573750</td>\n",
       "    </tr>\n",
       "    <tr>\n",
       "      <th>3</th>\n",
       "      <td>2008-01-18</td>\n",
       "      <td>0.706667</td>\n",
       "    </tr>\n",
       "    <tr>\n",
       "      <th>4</th>\n",
       "      <td>2008-01-19</td>\n",
       "      <td>0.577917</td>\n",
       "    </tr>\n",
       "  </tbody>\n",
       "</table>\n",
       "</div>"
      ],
      "text/plain": [
       "        date  tide_verified\n",
       "0 2008-01-15      -0.416250\n",
       "1 2008-01-16      -0.357083\n",
       "2 2008-01-17       0.573750\n",
       "3 2008-01-18       0.706667\n",
       "4 2008-01-19       0.577917"
      ]
     },
     "metadata": {},
     "output_type": "display_data"
    },
    {
     "data": {
      "text/html": [
       "<div>\n",
       "<style scoped>\n",
       "    .dataframe tbody tr th:only-of-type {\n",
       "        vertical-align: middle;\n",
       "    }\n",
       "\n",
       "    .dataframe tbody tr th {\n",
       "        vertical-align: top;\n",
       "    }\n",
       "\n",
       "    .dataframe thead th {\n",
       "        text-align: right;\n",
       "    }\n",
       "</style>\n",
       "<table border=\"1\" class=\"dataframe\">\n",
       "  <thead>\n",
       "    <tr style=\"text-align: right;\">\n",
       "      <th></th>\n",
       "      <th>date</th>\n",
       "      <th>wind_speed</th>\n",
       "    </tr>\n",
       "  </thead>\n",
       "  <tbody>\n",
       "    <tr>\n",
       "      <th>0</th>\n",
       "      <td>2013-12-28</td>\n",
       "      <td>8.884167</td>\n",
       "    </tr>\n",
       "    <tr>\n",
       "      <th>1</th>\n",
       "      <td>2013-12-29</td>\n",
       "      <td>5.774583</td>\n",
       "    </tr>\n",
       "    <tr>\n",
       "      <th>2</th>\n",
       "      <td>2013-12-30</td>\n",
       "      <td>3.312917</td>\n",
       "    </tr>\n",
       "    <tr>\n",
       "      <th>3</th>\n",
       "      <td>2013-12-31</td>\n",
       "      <td>12.050833</td>\n",
       "    </tr>\n",
       "    <tr>\n",
       "      <th>4</th>\n",
       "      <td>2014-01-01</td>\n",
       "      <td>9.937917</td>\n",
       "    </tr>\n",
       "  </tbody>\n",
       "</table>\n",
       "</div>"
      ],
      "text/plain": [
       "        date  wind_speed\n",
       "0 2013-12-28    8.884167\n",
       "1 2013-12-29    5.774583\n",
       "2 2013-12-30    3.312917\n",
       "3 2013-12-31   12.050833\n",
       "4 2014-01-01    9.937917"
      ]
     },
     "metadata": {},
     "output_type": "display_data"
    },
    {
     "data": {
      "text/html": [
       "<div>\n",
       "<style scoped>\n",
       "    .dataframe tbody tr th:only-of-type {\n",
       "        vertical-align: middle;\n",
       "    }\n",
       "\n",
       "    .dataframe tbody tr th {\n",
       "        vertical-align: top;\n",
       "    }\n",
       "\n",
       "    .dataframe thead th {\n",
       "        text-align: right;\n",
       "    }\n",
       "</style>\n",
       "<table border=\"1\" class=\"dataframe\">\n",
       "  <thead>\n",
       "    <tr style=\"text-align: right;\">\n",
       "      <th></th>\n",
       "      <th>date</th>\n",
       "      <th>turbidity</th>\n",
       "    </tr>\n",
       "  </thead>\n",
       "  <tbody>\n",
       "    <tr>\n",
       "      <th>0</th>\n",
       "      <td>2014-05-01</td>\n",
       "      <td>2.050000</td>\n",
       "    </tr>\n",
       "    <tr>\n",
       "      <th>1</th>\n",
       "      <td>2014-05-02</td>\n",
       "      <td>2.058333</td>\n",
       "    </tr>\n",
       "    <tr>\n",
       "      <th>2</th>\n",
       "      <td>2014-05-03</td>\n",
       "      <td>2.095833</td>\n",
       "    </tr>\n",
       "    <tr>\n",
       "      <th>3</th>\n",
       "      <td>2014-05-04</td>\n",
       "      <td>2.097917</td>\n",
       "    </tr>\n",
       "    <tr>\n",
       "      <th>4</th>\n",
       "      <td>2014-05-05</td>\n",
       "      <td>2.235417</td>\n",
       "    </tr>\n",
       "  </tbody>\n",
       "</table>\n",
       "</div>"
      ],
      "text/plain": [
       "        date  turbidity\n",
       "0 2014-05-01   2.050000\n",
       "1 2014-05-02   2.058333\n",
       "2 2014-05-03   2.095833\n",
       "3 2014-05-04   2.097917\n",
       "4 2014-05-05   2.235417"
      ]
     },
     "metadata": {},
     "output_type": "display_data"
    }
   ],
   "source": [
    "display(tide.head())\n",
    "display(meteor.head())\n",
    "display(turbidity.head())"
   ]
  },
  {
   "cell_type": "code",
   "execution_count": 31,
   "id": "ac2f45df-6fff-4ee7-ba8d-36c8b9b17825",
   "metadata": {},
   "outputs": [],
   "source": [
    "full_data = pd.merge(\n",
    "    tide,\n",
    "    meteor,\n",
    "    on=\"date\",\n",
    "    how=\"inner\"\n",
    ")"
   ]
  },
  {
   "cell_type": "code",
   "execution_count": 32,
   "id": "a4565b29-5576-4590-8ee1-11fa310d80ad",
   "metadata": {},
   "outputs": [],
   "source": [
    "full_data = pd.merge(\n",
    "    full_data,\n",
    "    turbidity,\n",
    "    on=\"date\",\n",
    "    how=\"inner\"\n",
    ")"
   ]
  },
  {
   "cell_type": "code",
   "execution_count": 33,
   "id": "71f214f7-11f2-4352-9683-b67588e8ce71",
   "metadata": {},
   "outputs": [
    {
     "data": {
      "text/html": [
       "<div>\n",
       "<style scoped>\n",
       "    .dataframe tbody tr th:only-of-type {\n",
       "        vertical-align: middle;\n",
       "    }\n",
       "\n",
       "    .dataframe tbody tr th {\n",
       "        vertical-align: top;\n",
       "    }\n",
       "\n",
       "    .dataframe thead th {\n",
       "        text-align: right;\n",
       "    }\n",
       "</style>\n",
       "<table border=\"1\" class=\"dataframe\">\n",
       "  <thead>\n",
       "    <tr style=\"text-align: right;\">\n",
       "      <th></th>\n",
       "      <th>date</th>\n",
       "      <th>tide_verified</th>\n",
       "      <th>wind_speed</th>\n",
       "      <th>turbidity</th>\n",
       "    </tr>\n",
       "  </thead>\n",
       "  <tbody>\n",
       "    <tr>\n",
       "      <th>0</th>\n",
       "      <td>2014-05-01</td>\n",
       "      <td>1.242917</td>\n",
       "      <td>7.507500</td>\n",
       "      <td>2.050000</td>\n",
       "    </tr>\n",
       "    <tr>\n",
       "      <th>1</th>\n",
       "      <td>2014-05-02</td>\n",
       "      <td>1.470833</td>\n",
       "      <td>6.770417</td>\n",
       "      <td>2.058333</td>\n",
       "    </tr>\n",
       "    <tr>\n",
       "      <th>2</th>\n",
       "      <td>2014-05-03</td>\n",
       "      <td>1.648750</td>\n",
       "      <td>4.795417</td>\n",
       "      <td>2.095833</td>\n",
       "    </tr>\n",
       "    <tr>\n",
       "      <th>3</th>\n",
       "      <td>2014-05-04</td>\n",
       "      <td>0.871667</td>\n",
       "      <td>7.791667</td>\n",
       "      <td>2.097917</td>\n",
       "    </tr>\n",
       "    <tr>\n",
       "      <th>4</th>\n",
       "      <td>2014-05-05</td>\n",
       "      <td>0.690417</td>\n",
       "      <td>8.537500</td>\n",
       "      <td>2.235417</td>\n",
       "    </tr>\n",
       "  </tbody>\n",
       "</table>\n",
       "</div>"
      ],
      "text/plain": [
       "        date  tide_verified  wind_speed  turbidity\n",
       "0 2014-05-01       1.242917    7.507500   2.050000\n",
       "1 2014-05-02       1.470833    6.770417   2.058333\n",
       "2 2014-05-03       1.648750    4.795417   2.095833\n",
       "3 2014-05-04       0.871667    7.791667   2.097917\n",
       "4 2014-05-05       0.690417    8.537500   2.235417"
      ]
     },
     "metadata": {},
     "output_type": "display_data"
    },
    {
     "data": {
      "text/html": [
       "<div>\n",
       "<style scoped>\n",
       "    .dataframe tbody tr th:only-of-type {\n",
       "        vertical-align: middle;\n",
       "    }\n",
       "\n",
       "    .dataframe tbody tr th {\n",
       "        vertical-align: top;\n",
       "    }\n",
       "\n",
       "    .dataframe thead th {\n",
       "        text-align: right;\n",
       "    }\n",
       "</style>\n",
       "<table border=\"1\" class=\"dataframe\">\n",
       "  <thead>\n",
       "    <tr style=\"text-align: right;\">\n",
       "      <th></th>\n",
       "      <th>date</th>\n",
       "      <th>tide_verified</th>\n",
       "      <th>wind_speed</th>\n",
       "      <th>turbidity</th>\n",
       "    </tr>\n",
       "  </thead>\n",
       "  <tbody>\n",
       "    <tr>\n",
       "      <th>3905</th>\n",
       "      <td>2025-02-24</td>\n",
       "      <td>1.767917</td>\n",
       "      <td>6.867500</td>\n",
       "      <td>6.820833</td>\n",
       "    </tr>\n",
       "    <tr>\n",
       "      <th>3906</th>\n",
       "      <td>2025-02-25</td>\n",
       "      <td>1.895000</td>\n",
       "      <td>11.331250</td>\n",
       "      <td>6.918750</td>\n",
       "    </tr>\n",
       "    <tr>\n",
       "      <th>3907</th>\n",
       "      <td>2025-02-26</td>\n",
       "      <td>1.780000</td>\n",
       "      <td>6.406667</td>\n",
       "      <td>6.941667</td>\n",
       "    </tr>\n",
       "    <tr>\n",
       "      <th>3908</th>\n",
       "      <td>2025-02-27</td>\n",
       "      <td>1.886250</td>\n",
       "      <td>4.365833</td>\n",
       "      <td>7.292708</td>\n",
       "    </tr>\n",
       "    <tr>\n",
       "      <th>3909</th>\n",
       "      <td>2025-02-28</td>\n",
       "      <td>1.891667</td>\n",
       "      <td>6.406667</td>\n",
       "      <td>7.735417</td>\n",
       "    </tr>\n",
       "  </tbody>\n",
       "</table>\n",
       "</div>"
      ],
      "text/plain": [
       "           date  tide_verified  wind_speed  turbidity\n",
       "3905 2025-02-24       1.767917    6.867500   6.820833\n",
       "3906 2025-02-25       1.895000   11.331250   6.918750\n",
       "3907 2025-02-26       1.780000    6.406667   6.941667\n",
       "3908 2025-02-27       1.886250    4.365833   7.292708\n",
       "3909 2025-02-28       1.891667    6.406667   7.735417"
      ]
     },
     "metadata": {},
     "output_type": "display_data"
    }
   ],
   "source": [
    "display(full_data.head())\n",
    "display(full_data.tail())"
   ]
  },
  {
   "cell_type": "code",
   "execution_count": 34,
   "id": "b9176a10-ca36-4f14-ad6b-4aff9916378b",
   "metadata": {},
   "outputs": [
    {
     "name": "stdout",
     "output_type": "stream",
     "text": [
      "<class 'pandas.core.frame.DataFrame'>\n",
      "RangeIndex: 3910 entries, 0 to 3909\n",
      "Data columns (total 4 columns):\n",
      " #   Column         Non-Null Count  Dtype         \n",
      "---  ------         --------------  -----         \n",
      " 0   date           3910 non-null   datetime64[ns]\n",
      " 1   tide_verified  3910 non-null   float64       \n",
      " 2   wind_speed     3666 non-null   float64       \n",
      " 3   turbidity      3910 non-null   float64       \n",
      "dtypes: datetime64[ns](1), float64(3)\n",
      "memory usage: 122.3 KB\n"
     ]
    }
   ],
   "source": [
    "full_data.info()"
   ]
  },
  {
   "cell_type": "code",
   "execution_count": 35,
   "id": "35c43edd-bdfc-46ee-b74c-148916b5bd91",
   "metadata": {},
   "outputs": [
    {
     "name": "stdout",
     "output_type": "stream",
     "text": [
      "Filled 244 missing values using seasonal median interpolation\n"
     ]
    }
   ],
   "source": [
    "import pandas as pd\n",
    "import numpy as np\n",
    "\n",
    "# Assuming full_data has a datetime index or 'date' column\n",
    "# Extract month and day components for seasonal matching\n",
    "full_data['month'] = full_data['date'].dt.month\n",
    "full_data['day'] = full_data['date'].dt.day\n",
    "\n",
    "# Identify missing values\n",
    "missing_mask = full_data['wind_speed'].isna()\n",
    "\n",
    "# Make a copy of the original dataframe\n",
    "full_data_filled = full_data.copy()\n",
    "\n",
    "# For each missing value, find the median wind speed for the same month and day across all years\n",
    "for idx in np.where(missing_mask)[0]:\n",
    "    current_row = full_data.iloc[idx]\n",
    "    current_month = current_row['month']\n",
    "    current_day = current_row['day']\n",
    "    \n",
    "    # Find all rows with the same month and day (from other years)\n",
    "    matching_days = full_data[\n",
    "        (full_data['month'] == current_month) & \n",
    "        (full_data['day'] == current_day) &\n",
    "        (~full_data['wind_speed'].isna())  # Only consider non-NaN values\n",
    "    ]\n",
    "    \n",
    "    # If we have matching days with data, use their median\n",
    "    if len(matching_days) > 0:\n",
    "        full_data_filled.loc[full_data_filled.index[idx], 'wind_speed'] = matching_days['wind_speed'].median()\n",
    "\n",
    "# Handle any remaining NaNs (if there are dates with no data across any year)\n",
    "if full_data_filled['wind_speed'].isna().any():\n",
    "    # Find median by month only for any remaining missing values\n",
    "    remaining_missing = full_data_filled['wind_speed'].isna()\n",
    "    \n",
    "    for idx in np.where(remaining_missing)[0]:\n",
    "        current_month = full_data.iloc[idx]['month']\n",
    "        month_data = full_data[\n",
    "            (full_data['month'] == current_month) &\n",
    "            (~full_data['wind_speed'].isna())\n",
    "        ]\n",
    "        \n",
    "        if len(month_data) > 0:\n",
    "            full_data_filled.loc[full_data_filled.index[idx], 'wind_speed'] = month_data['wind_speed'].median()\n",
    "    \n",
    "    # If there are still missing values, use forward and backward fill\n",
    "    full_data_filled['wind_speed'] = full_data_filled['wind_speed'].fillna(method='ffill').fillna(method='bfill')\n",
    "\n",
    "# Print stats\n",
    "filled_count = missing_mask.sum() - full_data_filled['wind_speed'].isna().sum()\n",
    "print(f\"Filled {filled_count} missing values using seasonal median interpolation\")"
   ]
  },
  {
   "cell_type": "code",
   "execution_count": 36,
   "id": "7990c9ff-c29a-4a44-befb-af991de6f5de",
   "metadata": {},
   "outputs": [
    {
     "data": {
      "text/html": [
       "<div>\n",
       "<style scoped>\n",
       "    .dataframe tbody tr th:only-of-type {\n",
       "        vertical-align: middle;\n",
       "    }\n",
       "\n",
       "    .dataframe tbody tr th {\n",
       "        vertical-align: top;\n",
       "    }\n",
       "\n",
       "    .dataframe thead th {\n",
       "        text-align: right;\n",
       "    }\n",
       "</style>\n",
       "<table border=\"1\" class=\"dataframe\">\n",
       "  <thead>\n",
       "    <tr style=\"text-align: right;\">\n",
       "      <th></th>\n",
       "      <th>date</th>\n",
       "      <th>tide_verified</th>\n",
       "      <th>wind_speed</th>\n",
       "      <th>turbidity</th>\n",
       "      <th>month</th>\n",
       "      <th>day</th>\n",
       "    </tr>\n",
       "  </thead>\n",
       "  <tbody>\n",
       "    <tr>\n",
       "      <th>0</th>\n",
       "      <td>2014-05-01</td>\n",
       "      <td>1.242917</td>\n",
       "      <td>7.507500</td>\n",
       "      <td>2.050000</td>\n",
       "      <td>5</td>\n",
       "      <td>1</td>\n",
       "    </tr>\n",
       "    <tr>\n",
       "      <th>1</th>\n",
       "      <td>2014-05-02</td>\n",
       "      <td>1.470833</td>\n",
       "      <td>6.770417</td>\n",
       "      <td>2.058333</td>\n",
       "      <td>5</td>\n",
       "      <td>2</td>\n",
       "    </tr>\n",
       "    <tr>\n",
       "      <th>2</th>\n",
       "      <td>2014-05-03</td>\n",
       "      <td>1.648750</td>\n",
       "      <td>4.795417</td>\n",
       "      <td>2.095833</td>\n",
       "      <td>5</td>\n",
       "      <td>3</td>\n",
       "    </tr>\n",
       "    <tr>\n",
       "      <th>3</th>\n",
       "      <td>2014-05-04</td>\n",
       "      <td>0.871667</td>\n",
       "      <td>7.791667</td>\n",
       "      <td>2.097917</td>\n",
       "      <td>5</td>\n",
       "      <td>4</td>\n",
       "    </tr>\n",
       "    <tr>\n",
       "      <th>4</th>\n",
       "      <td>2014-05-05</td>\n",
       "      <td>0.690417</td>\n",
       "      <td>8.537500</td>\n",
       "      <td>2.235417</td>\n",
       "      <td>5</td>\n",
       "      <td>5</td>\n",
       "    </tr>\n",
       "  </tbody>\n",
       "</table>\n",
       "</div>"
      ],
      "text/plain": [
       "        date  tide_verified  wind_speed  turbidity  month  day\n",
       "0 2014-05-01       1.242917    7.507500   2.050000      5    1\n",
       "1 2014-05-02       1.470833    6.770417   2.058333      5    2\n",
       "2 2014-05-03       1.648750    4.795417   2.095833      5    3\n",
       "3 2014-05-04       0.871667    7.791667   2.097917      5    4\n",
       "4 2014-05-05       0.690417    8.537500   2.235417      5    5"
      ]
     },
     "metadata": {},
     "output_type": "display_data"
    },
    {
     "data": {
      "text/html": [
       "<div>\n",
       "<style scoped>\n",
       "    .dataframe tbody tr th:only-of-type {\n",
       "        vertical-align: middle;\n",
       "    }\n",
       "\n",
       "    .dataframe tbody tr th {\n",
       "        vertical-align: top;\n",
       "    }\n",
       "\n",
       "    .dataframe thead th {\n",
       "        text-align: right;\n",
       "    }\n",
       "</style>\n",
       "<table border=\"1\" class=\"dataframe\">\n",
       "  <thead>\n",
       "    <tr style=\"text-align: right;\">\n",
       "      <th></th>\n",
       "      <th>date</th>\n",
       "      <th>tide_verified</th>\n",
       "      <th>wind_speed</th>\n",
       "      <th>turbidity</th>\n",
       "      <th>month</th>\n",
       "      <th>day</th>\n",
       "    </tr>\n",
       "  </thead>\n",
       "  <tbody>\n",
       "    <tr>\n",
       "      <th>3905</th>\n",
       "      <td>2025-02-24</td>\n",
       "      <td>1.767917</td>\n",
       "      <td>6.867500</td>\n",
       "      <td>6.820833</td>\n",
       "      <td>2</td>\n",
       "      <td>24</td>\n",
       "    </tr>\n",
       "    <tr>\n",
       "      <th>3906</th>\n",
       "      <td>2025-02-25</td>\n",
       "      <td>1.895000</td>\n",
       "      <td>11.331250</td>\n",
       "      <td>6.918750</td>\n",
       "      <td>2</td>\n",
       "      <td>25</td>\n",
       "    </tr>\n",
       "    <tr>\n",
       "      <th>3907</th>\n",
       "      <td>2025-02-26</td>\n",
       "      <td>1.780000</td>\n",
       "      <td>6.406667</td>\n",
       "      <td>6.941667</td>\n",
       "      <td>2</td>\n",
       "      <td>26</td>\n",
       "    </tr>\n",
       "    <tr>\n",
       "      <th>3908</th>\n",
       "      <td>2025-02-27</td>\n",
       "      <td>1.886250</td>\n",
       "      <td>4.365833</td>\n",
       "      <td>7.292708</td>\n",
       "      <td>2</td>\n",
       "      <td>27</td>\n",
       "    </tr>\n",
       "    <tr>\n",
       "      <th>3909</th>\n",
       "      <td>2025-02-28</td>\n",
       "      <td>1.891667</td>\n",
       "      <td>6.406667</td>\n",
       "      <td>7.735417</td>\n",
       "      <td>2</td>\n",
       "      <td>28</td>\n",
       "    </tr>\n",
       "  </tbody>\n",
       "</table>\n",
       "</div>"
      ],
      "text/plain": [
       "           date  tide_verified  wind_speed  turbidity  month  day\n",
       "3905 2025-02-24       1.767917    6.867500   6.820833      2   24\n",
       "3906 2025-02-25       1.895000   11.331250   6.918750      2   25\n",
       "3907 2025-02-26       1.780000    6.406667   6.941667      2   26\n",
       "3908 2025-02-27       1.886250    4.365833   7.292708      2   27\n",
       "3909 2025-02-28       1.891667    6.406667   7.735417      2   28"
      ]
     },
     "metadata": {},
     "output_type": "display_data"
    }
   ],
   "source": [
    "display(full_data_filled.head())\n",
    "display(full_data_filled.tail())"
   ]
  },
  {
   "cell_type": "code",
   "execution_count": 37,
   "id": "7cbdf840-766d-4be5-9a55-5420d1461bfc",
   "metadata": {},
   "outputs": [],
   "source": [
    "full_data_filled = full_data_filled.drop(columns={'month', 'day'})"
   ]
  },
  {
   "cell_type": "code",
   "execution_count": 38,
   "id": "5f8c43c8-7dd7-4177-88fb-55212c6c39a5",
   "metadata": {},
   "outputs": [
    {
     "name": "stdout",
     "output_type": "stream",
     "text": [
      "<class 'pandas.core.frame.DataFrame'>\n",
      "RangeIndex: 3910 entries, 0 to 3909\n",
      "Data columns (total 4 columns):\n",
      " #   Column         Non-Null Count  Dtype         \n",
      "---  ------         --------------  -----         \n",
      " 0   date           3910 non-null   datetime64[ns]\n",
      " 1   tide_verified  3910 non-null   float64       \n",
      " 2   wind_speed     3910 non-null   float64       \n",
      " 3   turbidity      3910 non-null   float64       \n",
      "dtypes: datetime64[ns](1), float64(3)\n",
      "memory usage: 122.3 KB\n"
     ]
    }
   ],
   "source": [
    "full_data_filled.info()"
   ]
  },
  {
   "cell_type": "code",
   "execution_count": 39,
   "id": "5b0a39e6-8199-4661-9c99-692b731c6dfb",
   "metadata": {},
   "outputs": [],
   "source": [
    "for col in full_data_filled.select_dtypes(include=['float']).columns:\n",
    "    full_data_filled[col] = full_data_filled[col].round(2)"
   ]
  },
  {
   "cell_type": "code",
   "execution_count": 40,
   "id": "608fcbc9-f5fd-4282-bc39-f834b49e4831",
   "metadata": {},
   "outputs": [
    {
     "data": {
      "text/html": [
       "<div>\n",
       "<style scoped>\n",
       "    .dataframe tbody tr th:only-of-type {\n",
       "        vertical-align: middle;\n",
       "    }\n",
       "\n",
       "    .dataframe tbody tr th {\n",
       "        vertical-align: top;\n",
       "    }\n",
       "\n",
       "    .dataframe thead th {\n",
       "        text-align: right;\n",
       "    }\n",
       "</style>\n",
       "<table border=\"1\" class=\"dataframe\">\n",
       "  <thead>\n",
       "    <tr style=\"text-align: right;\">\n",
       "      <th></th>\n",
       "      <th>date</th>\n",
       "      <th>tide_verified</th>\n",
       "      <th>wind_speed</th>\n",
       "      <th>turbidity</th>\n",
       "    </tr>\n",
       "  </thead>\n",
       "  <tbody>\n",
       "    <tr>\n",
       "      <th>0</th>\n",
       "      <td>2014-05-01</td>\n",
       "      <td>1.24</td>\n",
       "      <td>7.51</td>\n",
       "      <td>2.05</td>\n",
       "    </tr>\n",
       "    <tr>\n",
       "      <th>1</th>\n",
       "      <td>2014-05-02</td>\n",
       "      <td>1.47</td>\n",
       "      <td>6.77</td>\n",
       "      <td>2.06</td>\n",
       "    </tr>\n",
       "    <tr>\n",
       "      <th>2</th>\n",
       "      <td>2014-05-03</td>\n",
       "      <td>1.65</td>\n",
       "      <td>4.80</td>\n",
       "      <td>2.10</td>\n",
       "    </tr>\n",
       "    <tr>\n",
       "      <th>3</th>\n",
       "      <td>2014-05-04</td>\n",
       "      <td>0.87</td>\n",
       "      <td>7.79</td>\n",
       "      <td>2.10</td>\n",
       "    </tr>\n",
       "    <tr>\n",
       "      <th>4</th>\n",
       "      <td>2014-05-05</td>\n",
       "      <td>0.69</td>\n",
       "      <td>8.54</td>\n",
       "      <td>2.24</td>\n",
       "    </tr>\n",
       "  </tbody>\n",
       "</table>\n",
       "</div>"
      ],
      "text/plain": [
       "        date  tide_verified  wind_speed  turbidity\n",
       "0 2014-05-01           1.24        7.51       2.05\n",
       "1 2014-05-02           1.47        6.77       2.06\n",
       "2 2014-05-03           1.65        4.80       2.10\n",
       "3 2014-05-04           0.87        7.79       2.10\n",
       "4 2014-05-05           0.69        8.54       2.24"
      ]
     },
     "metadata": {},
     "output_type": "display_data"
    },
    {
     "data": {
      "text/html": [
       "<div>\n",
       "<style scoped>\n",
       "    .dataframe tbody tr th:only-of-type {\n",
       "        vertical-align: middle;\n",
       "    }\n",
       "\n",
       "    .dataframe tbody tr th {\n",
       "        vertical-align: top;\n",
       "    }\n",
       "\n",
       "    .dataframe thead th {\n",
       "        text-align: right;\n",
       "    }\n",
       "</style>\n",
       "<table border=\"1\" class=\"dataframe\">\n",
       "  <thead>\n",
       "    <tr style=\"text-align: right;\">\n",
       "      <th></th>\n",
       "      <th>date</th>\n",
       "      <th>tide_verified</th>\n",
       "      <th>wind_speed</th>\n",
       "      <th>turbidity</th>\n",
       "    </tr>\n",
       "  </thead>\n",
       "  <tbody>\n",
       "    <tr>\n",
       "      <th>3905</th>\n",
       "      <td>2025-02-24</td>\n",
       "      <td>1.77</td>\n",
       "      <td>6.87</td>\n",
       "      <td>6.82</td>\n",
       "    </tr>\n",
       "    <tr>\n",
       "      <th>3906</th>\n",
       "      <td>2025-02-25</td>\n",
       "      <td>1.90</td>\n",
       "      <td>11.33</td>\n",
       "      <td>6.92</td>\n",
       "    </tr>\n",
       "    <tr>\n",
       "      <th>3907</th>\n",
       "      <td>2025-02-26</td>\n",
       "      <td>1.78</td>\n",
       "      <td>6.41</td>\n",
       "      <td>6.94</td>\n",
       "    </tr>\n",
       "    <tr>\n",
       "      <th>3908</th>\n",
       "      <td>2025-02-27</td>\n",
       "      <td>1.89</td>\n",
       "      <td>4.37</td>\n",
       "      <td>7.29</td>\n",
       "    </tr>\n",
       "    <tr>\n",
       "      <th>3909</th>\n",
       "      <td>2025-02-28</td>\n",
       "      <td>1.89</td>\n",
       "      <td>6.41</td>\n",
       "      <td>7.74</td>\n",
       "    </tr>\n",
       "  </tbody>\n",
       "</table>\n",
       "</div>"
      ],
      "text/plain": [
       "           date  tide_verified  wind_speed  turbidity\n",
       "3905 2025-02-24           1.77        6.87       6.82\n",
       "3906 2025-02-25           1.90       11.33       6.92\n",
       "3907 2025-02-26           1.78        6.41       6.94\n",
       "3908 2025-02-27           1.89        4.37       7.29\n",
       "3909 2025-02-28           1.89        6.41       7.74"
      ]
     },
     "metadata": {},
     "output_type": "display_data"
    }
   ],
   "source": [
    "display(full_data_filled.head())\n",
    "display(full_data_filled.tail())"
   ]
  },
  {
   "cell_type": "markdown",
   "id": "375a01ee-59d0-46f9-bd76-b7badf96ddb6",
   "metadata": {},
   "source": [
    "# NDVI"
   ]
  },
  {
   "cell_type": "code",
   "execution_count": 59,
   "id": "a3fee459-0aab-4060-ac20-6462d2ef7f25",
   "metadata": {},
   "outputs": [],
   "source": [
    "ndvi = pd.read_csv(\"ndvi_full.csv\")"
   ]
  },
  {
   "cell_type": "code",
   "execution_count": 60,
   "id": "886669f2-613c-416a-ab04-6866d062aeab",
   "metadata": {},
   "outputs": [
    {
     "name": "stderr",
     "output_type": "stream",
     "text": [
      "/var/folders/y6/t72z56_96cdd7h4ccqzktsh40000gn/T/ipykernel_31259/3730004203.py:1: UserWarning: Could not infer format, so each element will be parsed individually, falling back to `dateutil`. To ensure parsing is consistent and as-expected, please specify a format.\n",
      "  ndvi['datetime_with_tz'] = pd.to_datetime(ndvi['date'], utc=True)\n"
     ]
    }
   ],
   "source": [
    "ndvi['datetime_with_tz'] = pd.to_datetime(ndvi['date'], utc=True)"
   ]
  },
  {
   "cell_type": "code",
   "execution_count": 61,
   "id": "8bbd576f-f800-43f6-903f-1af3c4574d3b",
   "metadata": {},
   "outputs": [],
   "source": [
    "ndvi = ndvi.drop(columns={'system:index', '.geo', 'date'})"
   ]
  },
  {
   "cell_type": "code",
   "execution_count": 62,
   "id": "80f70d2f-232a-4f0c-a3f4-2bf3a1940a6c",
   "metadata": {},
   "outputs": [],
   "source": [
    "ndvi['date'] = ndvi['datetime_with_tz'].dt.date"
   ]
  },
  {
   "cell_type": "code",
   "execution_count": 63,
   "id": "1866df72-3ca0-4547-bfe0-dc7d91481dbe",
   "metadata": {},
   "outputs": [],
   "source": [
    "ndvi = ndvi.drop(columns={'datetime_with_tz'})"
   ]
  },
  {
   "cell_type": "code",
   "execution_count": 64,
   "id": "fb0f4389-d225-4e6e-b51b-924789fd6beb",
   "metadata": {},
   "outputs": [],
   "source": [
    "ndvi['date'] = pd.to_datetime(ndvi['date'])"
   ]
  },
  {
   "cell_type": "code",
   "execution_count": 65,
   "id": "f045a9de-6182-4e98-9e07-35822dd24864",
   "metadata": {},
   "outputs": [],
   "source": [
    "ndvi = ndvi[ndvi['ndvi'] >= 0.1]"
   ]
  },
  {
   "cell_type": "code",
   "execution_count": 66,
   "id": "afa1a83d-0690-499d-9f94-4e457f813f1a",
   "metadata": {},
   "outputs": [
    {
     "data": {
      "text/html": [
       "<div>\n",
       "<style scoped>\n",
       "    .dataframe tbody tr th:only-of-type {\n",
       "        vertical-align: middle;\n",
       "    }\n",
       "\n",
       "    .dataframe tbody tr th {\n",
       "        vertical-align: top;\n",
       "    }\n",
       "\n",
       "    .dataframe thead th {\n",
       "        text-align: right;\n",
       "    }\n",
       "</style>\n",
       "<table border=\"1\" class=\"dataframe\">\n",
       "  <thead>\n",
       "    <tr style=\"text-align: right;\">\n",
       "      <th></th>\n",
       "      <th>ndvi</th>\n",
       "      <th>date</th>\n",
       "    </tr>\n",
       "  </thead>\n",
       "  <tbody>\n",
       "    <tr>\n",
       "      <th>0</th>\n",
       "      <td>0.229624</td>\n",
       "      <td>2014-05-01</td>\n",
       "    </tr>\n",
       "    <tr>\n",
       "      <th>1</th>\n",
       "      <td>0.330601</td>\n",
       "      <td>2014-05-02</td>\n",
       "    </tr>\n",
       "    <tr>\n",
       "      <th>3</th>\n",
       "      <td>0.654107</td>\n",
       "      <td>2014-05-04</td>\n",
       "    </tr>\n",
       "    <tr>\n",
       "      <th>4</th>\n",
       "      <td>0.725772</td>\n",
       "      <td>2014-05-05</td>\n",
       "    </tr>\n",
       "    <tr>\n",
       "      <th>5</th>\n",
       "      <td>0.670115</td>\n",
       "      <td>2014-05-06</td>\n",
       "    </tr>\n",
       "  </tbody>\n",
       "</table>\n",
       "</div>"
      ],
      "text/plain": [
       "       ndvi       date\n",
       "0  0.229624 2014-05-01\n",
       "1  0.330601 2014-05-02\n",
       "3  0.654107 2014-05-04\n",
       "4  0.725772 2014-05-05\n",
       "5  0.670115 2014-05-06"
      ]
     },
     "execution_count": 66,
     "metadata": {},
     "output_type": "execute_result"
    }
   ],
   "source": [
    "ndvi.head()"
   ]
  },
  {
   "cell_type": "code",
   "execution_count": 67,
   "id": "a837b42b-aedc-432c-80c8-d03d971cf477",
   "metadata": {},
   "outputs": [
    {
     "name": "stdout",
     "output_type": "stream",
     "text": [
      "<class 'pandas.core.frame.DataFrame'>\n",
      "Index: 3338 entries, 0 to 3854\n",
      "Data columns (total 2 columns):\n",
      " #   Column  Non-Null Count  Dtype         \n",
      "---  ------  --------------  -----         \n",
      " 0   ndvi    3338 non-null   float64       \n",
      " 1   date    3338 non-null   datetime64[ns]\n",
      "dtypes: datetime64[ns](1), float64(1)\n",
      "memory usage: 78.2 KB\n"
     ]
    }
   ],
   "source": [
    "ndvi.info()"
   ]
  },
  {
   "cell_type": "code",
   "execution_count": 68,
   "id": "83bef5b8-67de-4ebc-860e-d470d4652ece",
   "metadata": {},
   "outputs": [
    {
     "data": {
      "text/html": [
       "<div>\n",
       "<style scoped>\n",
       "    .dataframe tbody tr th:only-of-type {\n",
       "        vertical-align: middle;\n",
       "    }\n",
       "\n",
       "    .dataframe tbody tr th {\n",
       "        vertical-align: top;\n",
       "    }\n",
       "\n",
       "    .dataframe thead th {\n",
       "        text-align: right;\n",
       "    }\n",
       "</style>\n",
       "<table border=\"1\" class=\"dataframe\">\n",
       "  <thead>\n",
       "    <tr style=\"text-align: right;\">\n",
       "      <th></th>\n",
       "      <th>count</th>\n",
       "      <th>mean</th>\n",
       "      <th>min</th>\n",
       "      <th>25%</th>\n",
       "      <th>50%</th>\n",
       "      <th>75%</th>\n",
       "      <th>max</th>\n",
       "      <th>std</th>\n",
       "    </tr>\n",
       "  </thead>\n",
       "  <tbody>\n",
       "    <tr>\n",
       "      <th>ndvi</th>\n",
       "      <td>3338.0</td>\n",
       "      <td>0.429998</td>\n",
       "      <td>0.100174</td>\n",
       "      <td>0.314833</td>\n",
       "      <td>0.434775</td>\n",
       "      <td>0.561454</td>\n",
       "      <td>0.889678</td>\n",
       "      <td>0.158686</td>\n",
       "    </tr>\n",
       "    <tr>\n",
       "      <th>date</th>\n",
       "      <td>3338</td>\n",
       "      <td>2019-09-25 11:16:51.623726848</td>\n",
       "      <td>2014-05-01 00:00:00</td>\n",
       "      <td>2017-01-25 06:00:00</td>\n",
       "      <td>2019-09-27 12:00:00</td>\n",
       "      <td>2022-05-22 18:00:00</td>\n",
       "      <td>2025-02-27 00:00:00</td>\n",
       "      <td>NaN</td>\n",
       "    </tr>\n",
       "  </tbody>\n",
       "</table>\n",
       "</div>"
      ],
      "text/plain": [
       "       count                           mean                  min  \\\n",
       "ndvi  3338.0                       0.429998             0.100174   \n",
       "date    3338  2019-09-25 11:16:51.623726848  2014-05-01 00:00:00   \n",
       "\n",
       "                      25%                  50%                  75%  \\\n",
       "ndvi             0.314833             0.434775             0.561454   \n",
       "date  2017-01-25 06:00:00  2019-09-27 12:00:00  2022-05-22 18:00:00   \n",
       "\n",
       "                      max       std  \n",
       "ndvi             0.889678  0.158686  \n",
       "date  2025-02-27 00:00:00       NaN  "
      ]
     },
     "execution_count": 68,
     "metadata": {},
     "output_type": "execute_result"
    }
   ],
   "source": [
    "ndvi.describe().T"
   ]
  },
  {
   "cell_type": "code",
   "execution_count": 69,
   "id": "17fb68e9-e8df-40bf-8991-087b0eb448f7",
   "metadata": {},
   "outputs": [],
   "source": [
    "final_data = pd.merge(\n",
    "    full_data_filled,\n",
    "    ndvi,\n",
    "    on=\"date\",\n",
    "    how=\"left\"\n",
    ")"
   ]
  },
  {
   "cell_type": "code",
   "execution_count": 70,
   "id": "4a9422ec-a342-4c41-aec2-597a4e80f3eb",
   "metadata": {
    "scrolled": true
   },
   "outputs": [
    {
     "data": {
      "text/html": [
       "<div>\n",
       "<style scoped>\n",
       "    .dataframe tbody tr th:only-of-type {\n",
       "        vertical-align: middle;\n",
       "    }\n",
       "\n",
       "    .dataframe tbody tr th {\n",
       "        vertical-align: top;\n",
       "    }\n",
       "\n",
       "    .dataframe thead th {\n",
       "        text-align: right;\n",
       "    }\n",
       "</style>\n",
       "<table border=\"1\" class=\"dataframe\">\n",
       "  <thead>\n",
       "    <tr style=\"text-align: right;\">\n",
       "      <th></th>\n",
       "      <th>date</th>\n",
       "      <th>tide_verified</th>\n",
       "      <th>wind_speed</th>\n",
       "      <th>turbidity</th>\n",
       "      <th>ndvi</th>\n",
       "    </tr>\n",
       "  </thead>\n",
       "  <tbody>\n",
       "    <tr>\n",
       "      <th>2</th>\n",
       "      <td>2014-05-03</td>\n",
       "      <td>1.65</td>\n",
       "      <td>4.80</td>\n",
       "      <td>2.10</td>\n",
       "      <td>NaN</td>\n",
       "    </tr>\n",
       "    <tr>\n",
       "      <th>13</th>\n",
       "      <td>2014-05-14</td>\n",
       "      <td>1.00</td>\n",
       "      <td>9.15</td>\n",
       "      <td>2.34</td>\n",
       "      <td>NaN</td>\n",
       "    </tr>\n",
       "    <tr>\n",
       "      <th>14</th>\n",
       "      <td>2014-05-15</td>\n",
       "      <td>1.39</td>\n",
       "      <td>5.33</td>\n",
       "      <td>2.09</td>\n",
       "      <td>NaN</td>\n",
       "    </tr>\n",
       "    <tr>\n",
       "      <th>15</th>\n",
       "      <td>2014-05-16</td>\n",
       "      <td>0.79</td>\n",
       "      <td>6.30</td>\n",
       "      <td>2.07</td>\n",
       "      <td>NaN</td>\n",
       "    </tr>\n",
       "    <tr>\n",
       "      <th>32</th>\n",
       "      <td>2014-06-02</td>\n",
       "      <td>0.64</td>\n",
       "      <td>8.27</td>\n",
       "      <td>1.72</td>\n",
       "      <td>NaN</td>\n",
       "    </tr>\n",
       "  </tbody>\n",
       "</table>\n",
       "</div>"
      ],
      "text/plain": [
       "         date  tide_verified  wind_speed  turbidity  ndvi\n",
       "2  2014-05-03           1.65        4.80       2.10   NaN\n",
       "13 2014-05-14           1.00        9.15       2.34   NaN\n",
       "14 2014-05-15           1.39        5.33       2.09   NaN\n",
       "15 2014-05-16           0.79        6.30       2.07   NaN\n",
       "32 2014-06-02           0.64        8.27       1.72   NaN"
      ]
     },
     "execution_count": 70,
     "metadata": {},
     "output_type": "execute_result"
    }
   ],
   "source": [
    "final_data[final_data['ndvi'].isnull()].head()"
   ]
  },
  {
   "cell_type": "code",
   "execution_count": 71,
   "id": "449ee7a7-c933-46f8-8cf0-d7ee14861258",
   "metadata": {},
   "outputs": [
    {
     "name": "stdout",
     "output_type": "stream",
     "text": [
      "Filled 616 missing values using seasonal median interpolation\n"
     ]
    }
   ],
   "source": [
    "import pandas as pd\n",
    "import numpy as np\n",
    "\n",
    "# Assuming final_data has a datetime index or 'date' column\n",
    "# Extract month and day components for seasonal matching\n",
    "final_data['month'] = final_data['date'].dt.month\n",
    "final_data['day'] = final_data['date'].dt.day\n",
    "\n",
    "# Identify missing values\n",
    "missing_mask = final_data['ndvi'].isna()\n",
    "\n",
    "# Make a copy of the original dataframe\n",
    "final_data_filled = final_data.copy()\n",
    "\n",
    "# For each missing value, find the median wind speed for the same month and day across all years\n",
    "for idx in np.where(missing_mask)[0]:\n",
    "    current_row = final_data.iloc[idx]\n",
    "    current_month = current_row['month']\n",
    "    current_day = current_row['day']\n",
    "    \n",
    "    # Find all rows with the same month and day (from other years)\n",
    "    matching_days = final_data[\n",
    "        (final_data['month'] == current_month) & \n",
    "        (final_data['day'] == current_day) &\n",
    "        (~final_data['ndvi'].isna())  # Only consider non-NaN values\n",
    "    ]\n",
    "    \n",
    "    # If we have matching days with data, use their median\n",
    "    if len(matching_days) > 0:\n",
    "        final_data_filled.loc[final_data_filled.index[idx], 'ndvi'] = matching_days['ndvi'].median()\n",
    "\n",
    "# Handle any remaining NaNs (if there are dates with no data across any year)\n",
    "if final_data_filled['ndvi'].isna().any():\n",
    "    # Find median by month only for any remaining missing values\n",
    "    remaining_missing = final_data_filled['ndvi'].isna()\n",
    "    \n",
    "    for idx in np.where(remaining_missing)[0]:\n",
    "        current_month = final_data.iloc[idx]['month']\n",
    "        month_data = final_data[\n",
    "            (final_data['month'] == current_month) &\n",
    "            (~final_data['ndvi'].isna())\n",
    "        ]\n",
    "        \n",
    "        if len(month_data) > 0:\n",
    "            final_data_filled.loc[final_data_filled.index[idx], 'ndvi'] = month_data['ndvi'].median()\n",
    "    \n",
    "    # If there are still missing values, use forward and backward fill\n",
    "    final_data_filled['ndvi'] = final_data_filled['ndvi'].fillna(method='ffill').fillna(method='bfill')\n",
    "\n",
    "# Print stats\n",
    "filled_count = missing_mask.sum() - final_data_filled['ndvi'].isna().sum()\n",
    "print(f\"Filled {filled_count} missing values using seasonal median interpolation\")"
   ]
  },
  {
   "cell_type": "code",
   "execution_count": 72,
   "id": "0ff35d8f-f2af-48d1-a773-3510dc5c7252",
   "metadata": {},
   "outputs": [],
   "source": [
    "final_data_filled['ndvi'] = final_data_filled['ndvi'].round(2)"
   ]
  },
  {
   "cell_type": "code",
   "execution_count": 73,
   "id": "0878344d-7200-471f-86d8-f9c3f08abf2f",
   "metadata": {},
   "outputs": [],
   "source": [
    "final_data_filled = final_data_filled.drop(columns={'month', 'day'})"
   ]
  },
  {
   "cell_type": "code",
   "execution_count": 74,
   "id": "eefe39e4-abb0-47cd-8f77-7816c405a8ac",
   "metadata": {},
   "outputs": [
    {
     "name": "stdout",
     "output_type": "stream",
     "text": [
      "<class 'pandas.core.frame.DataFrame'>\n",
      "RangeIndex: 3910 entries, 0 to 3909\n",
      "Data columns (total 5 columns):\n",
      " #   Column         Non-Null Count  Dtype         \n",
      "---  ------         --------------  -----         \n",
      " 0   date           3910 non-null   datetime64[ns]\n",
      " 1   tide_verified  3910 non-null   float64       \n",
      " 2   wind_speed     3910 non-null   float64       \n",
      " 3   turbidity      3910 non-null   float64       \n",
      " 4   ndvi           3910 non-null   float64       \n",
      "dtypes: datetime64[ns](1), float64(4)\n",
      "memory usage: 152.9 KB\n"
     ]
    }
   ],
   "source": [
    "final_data_filled.info()"
   ]
  },
  {
   "cell_type": "code",
   "execution_count": 75,
   "id": "2da3865a-a78d-441e-b7fb-d3c88113ffef",
   "metadata": {},
   "outputs": [
    {
     "data": {
      "text/html": [
       "<div>\n",
       "<style scoped>\n",
       "    .dataframe tbody tr th:only-of-type {\n",
       "        vertical-align: middle;\n",
       "    }\n",
       "\n",
       "    .dataframe tbody tr th {\n",
       "        vertical-align: top;\n",
       "    }\n",
       "\n",
       "    .dataframe thead th {\n",
       "        text-align: right;\n",
       "    }\n",
       "</style>\n",
       "<table border=\"1\" class=\"dataframe\">\n",
       "  <thead>\n",
       "    <tr style=\"text-align: right;\">\n",
       "      <th></th>\n",
       "      <th>date</th>\n",
       "      <th>tide_verified</th>\n",
       "      <th>wind_speed</th>\n",
       "      <th>turbidity</th>\n",
       "      <th>ndvi</th>\n",
       "    </tr>\n",
       "  </thead>\n",
       "  <tbody>\n",
       "    <tr>\n",
       "      <th>0</th>\n",
       "      <td>2014-05-01</td>\n",
       "      <td>1.24</td>\n",
       "      <td>7.51</td>\n",
       "      <td>2.05</td>\n",
       "      <td>0.23</td>\n",
       "    </tr>\n",
       "    <tr>\n",
       "      <th>1</th>\n",
       "      <td>2014-05-02</td>\n",
       "      <td>1.47</td>\n",
       "      <td>6.77</td>\n",
       "      <td>2.06</td>\n",
       "      <td>0.33</td>\n",
       "    </tr>\n",
       "    <tr>\n",
       "      <th>2</th>\n",
       "      <td>2014-05-03</td>\n",
       "      <td>1.65</td>\n",
       "      <td>4.80</td>\n",
       "      <td>2.10</td>\n",
       "      <td>0.40</td>\n",
       "    </tr>\n",
       "    <tr>\n",
       "      <th>3</th>\n",
       "      <td>2014-05-04</td>\n",
       "      <td>0.87</td>\n",
       "      <td>7.79</td>\n",
       "      <td>2.10</td>\n",
       "      <td>0.65</td>\n",
       "    </tr>\n",
       "    <tr>\n",
       "      <th>4</th>\n",
       "      <td>2014-05-05</td>\n",
       "      <td>0.69</td>\n",
       "      <td>8.54</td>\n",
       "      <td>2.24</td>\n",
       "      <td>0.73</td>\n",
       "    </tr>\n",
       "  </tbody>\n",
       "</table>\n",
       "</div>"
      ],
      "text/plain": [
       "        date  tide_verified  wind_speed  turbidity  ndvi\n",
       "0 2014-05-01           1.24        7.51       2.05  0.23\n",
       "1 2014-05-02           1.47        6.77       2.06  0.33\n",
       "2 2014-05-03           1.65        4.80       2.10  0.40\n",
       "3 2014-05-04           0.87        7.79       2.10  0.65\n",
       "4 2014-05-05           0.69        8.54       2.24  0.73"
      ]
     },
     "metadata": {},
     "output_type": "display_data"
    },
    {
     "data": {
      "text/html": [
       "<div>\n",
       "<style scoped>\n",
       "    .dataframe tbody tr th:only-of-type {\n",
       "        vertical-align: middle;\n",
       "    }\n",
       "\n",
       "    .dataframe tbody tr th {\n",
       "        vertical-align: top;\n",
       "    }\n",
       "\n",
       "    .dataframe thead th {\n",
       "        text-align: right;\n",
       "    }\n",
       "</style>\n",
       "<table border=\"1\" class=\"dataframe\">\n",
       "  <thead>\n",
       "    <tr style=\"text-align: right;\">\n",
       "      <th></th>\n",
       "      <th>date</th>\n",
       "      <th>tide_verified</th>\n",
       "      <th>wind_speed</th>\n",
       "      <th>turbidity</th>\n",
       "      <th>ndvi</th>\n",
       "    </tr>\n",
       "  </thead>\n",
       "  <tbody>\n",
       "    <tr>\n",
       "      <th>3905</th>\n",
       "      <td>2025-02-24</td>\n",
       "      <td>1.77</td>\n",
       "      <td>6.87</td>\n",
       "      <td>6.82</td>\n",
       "      <td>0.36</td>\n",
       "    </tr>\n",
       "    <tr>\n",
       "      <th>3906</th>\n",
       "      <td>2025-02-25</td>\n",
       "      <td>1.90</td>\n",
       "      <td>11.33</td>\n",
       "      <td>6.92</td>\n",
       "      <td>0.16</td>\n",
       "    </tr>\n",
       "    <tr>\n",
       "      <th>3907</th>\n",
       "      <td>2025-02-26</td>\n",
       "      <td>1.78</td>\n",
       "      <td>6.41</td>\n",
       "      <td>6.94</td>\n",
       "      <td>0.60</td>\n",
       "    </tr>\n",
       "    <tr>\n",
       "      <th>3908</th>\n",
       "      <td>2025-02-27</td>\n",
       "      <td>1.89</td>\n",
       "      <td>4.37</td>\n",
       "      <td>7.29</td>\n",
       "      <td>0.53</td>\n",
       "    </tr>\n",
       "    <tr>\n",
       "      <th>3909</th>\n",
       "      <td>2025-02-28</td>\n",
       "      <td>1.89</td>\n",
       "      <td>6.41</td>\n",
       "      <td>7.74</td>\n",
       "      <td>0.42</td>\n",
       "    </tr>\n",
       "  </tbody>\n",
       "</table>\n",
       "</div>"
      ],
      "text/plain": [
       "           date  tide_verified  wind_speed  turbidity  ndvi\n",
       "3905 2025-02-24           1.77        6.87       6.82  0.36\n",
       "3906 2025-02-25           1.90       11.33       6.92  0.16\n",
       "3907 2025-02-26           1.78        6.41       6.94  0.60\n",
       "3908 2025-02-27           1.89        4.37       7.29  0.53\n",
       "3909 2025-02-28           1.89        6.41       7.74  0.42"
      ]
     },
     "metadata": {},
     "output_type": "display_data"
    }
   ],
   "source": [
    "display(final_data_filled.head())\n",
    "display(final_data_filled.tail())"
   ]
  },
  {
   "cell_type": "code",
   "execution_count": 76,
   "id": "1baf03a9-bbf8-4c8f-8023-0aa99551f652",
   "metadata": {},
   "outputs": [],
   "source": [
    "final_data_filled.to_csv('mangrove_data_full.csv', index=False)"
   ]
  },
  {
   "cell_type": "code",
   "execution_count": null,
   "id": "96a59a02-7311-4132-b823-ef9713c132e2",
   "metadata": {},
   "outputs": [],
   "source": []
  }
 ],
 "metadata": {
  "kernelspec": {
   "display_name": "Python 3 (ipykernel)",
   "language": "python",
   "name": "python3"
  },
  "language_info": {
   "codemirror_mode": {
    "name": "ipython",
    "version": 3
   },
   "file_extension": ".py",
   "mimetype": "text/x-python",
   "name": "python",
   "nbconvert_exporter": "python",
   "pygments_lexer": "ipython3",
   "version": "3.11.11"
  }
 },
 "nbformat": 4,
 "nbformat_minor": 5
}
