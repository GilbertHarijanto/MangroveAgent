{
  "nbformat": 4,
  "nbformat_minor": 0,
  "metadata": {
    "colab": {
      "provenance": []
    },
    "kernelspec": {
      "name": "python3",
      "display_name": "Python 3"
    },
    "language_info": {
      "name": "python"
    }
  },
  "cells": [
    {
      "cell_type": "code",
      "execution_count": 1,
      "metadata": {
        "colab": {
          "base_uri": "https://localhost:8080/"
        },
        "id": "2LaHqJG_cnhv",
        "outputId": "e5c5058c-bf67-4a56-b2ca-4c2fcda48356"
      },
      "outputs": [
        {
          "output_type": "stream",
          "name": "stdout",
          "text": [
            "\u001b[33mWARNING: pinecone 6.0.2 does not provide the extra 'async'\u001b[0m\u001b[33m\n",
            "\u001b[0m"
          ]
        }
      ],
      "source": [
        "!pip install -q langchain_core langchain-openai langgraph langchain_community langchain_pinecone"
      ]
    },
    {
      "cell_type": "code",
      "source": [
        "%cd /content/drive/MyDrive/Agent/mangrove_agent"
      ],
      "metadata": {
        "colab": {
          "base_uri": "https://localhost:8080/"
        },
        "id": "L4660wrUcv-9",
        "outputId": "054206bc-59b0-4696-dba5-774acdf966b0"
      },
      "execution_count": 2,
      "outputs": [
        {
          "output_type": "stream",
          "name": "stdout",
          "text": [
            "/content/drive/MyDrive/Agent/mangrove_agent\n"
          ]
        }
      ]
    },
    {
      "cell_type": "code",
      "source": [
        "# Colab-specific secret storage\n",
        "import os\n",
        "from google.colab import userdata\n",
        "os.environ[\"OPENAI_API_KEY\"] = userdata.get(\"OPENAI_API_KEY\")\n",
        "os.environ[\"PINECONE_API_KEY\"] = 'fe362b92-0b60-4a2d-877b-cd905d3f64f3'\n",
        "os.environ[\"PINECONE_INDEX_NAME\"] = 'mangrove-index'"
      ],
      "metadata": {
        "id": "ByUZaZ-qmVdf"
      },
      "execution_count": 3,
      "outputs": []
    },
    {
      "cell_type": "code",
      "source": [
        "# LLM\n",
        "from langchain_openai import ChatOpenAI\n",
        "from google.colab import userdata\n",
        "llm = ChatOpenAI(model=\"gpt-4o\", api_key=userdata.get('OPENAI_API_KEY'), temperature=0.8)"
      ],
      "metadata": {
        "id": "jqQptyoxc_hq"
      },
      "execution_count": 4,
      "outputs": []
    },
    {
      "cell_type": "code",
      "source": [
        "from pydantic import BaseModel, Field\n",
        "from typing import Optional, Literal\n",
        "\n",
        "class QueryIntent(BaseModel):\n",
        "    goal: Literal[\"forecast\", \"research\"] = Field(\n",
        "        description=\"\"\"\n",
        "        'forecast': the user wants a contextual overview or analysis. May include NDVI forecasts and real-time data if a location is mentioned.\n",
        "        'research': the user is asking a general knowledge question not tied to a specific place or data fetch.\n",
        "        \"\"\"\n",
        "    )\n",
        "    location: Optional[str] = Field(\n",
        "        description=\"The geographic location specified in the query, if any. Return None if not found.\"\n",
        "    )\n",
        "    state: Optional[str] = Field(\n",
        "    description=\"\"\"\n",
        "    The 2-letter U.S. state abbreviation (e.g., 'FL', 'TX') associated with the location,\n",
        "    if known or inferable from the query. Helps scope station lookups regionally.\n",
        "    Return None if the query doesn't reference a U.S. state.\n",
        "    \"\"\"\n",
        ")"
      ],
      "metadata": {
        "id": "NoErlJvkdEQC"
      },
      "execution_count": 5,
      "outputs": []
    },
    {
      "cell_type": "code",
      "source": [
        "from langchain_openai import ChatOpenAI\n",
        "from langchain_core.messages import SystemMessage\n",
        "\n",
        "system_prompt = SystemMessage(content=\"\"\"\n",
        "You are an intelligent assistant that extracts user intent from natural language.\n",
        "\n",
        "Return:\n",
        "- goal:\n",
        "    - 'forecast' if the user is asking for an overview, condition, or analysis of mangroves, especially in a specific location.\n",
        "    - 'research' if the user asks general questions like \"What are mangroves?\" or \"Why are they important?\"\n",
        "\n",
        "- location:\n",
        "    - If the user specifies a geographic location (e.g., city, region, island, or landmark), extract it.\n",
        "    - Return None if no clear location is mentioned.\n",
        "\n",
        "- state:\n",
        "    - If the location is in the United States, extract the 2-letter state abbreviation (e.g., \"FL\" for Florida, \"LA\" for Louisiana).\n",
        "    - Return None if the location is outside the U.S. or cannot be inferred.\n",
        "\n",
        "Only use the allowed values for 'goal'. Do not guess location if it's unclear.\n",
        "\"\"\")\n",
        "\n",
        "structured_llm = llm.with_structured_output(QueryIntent)"
      ],
      "metadata": {
        "id": "rFS8zQzWdQm8"
      },
      "execution_count": 6,
      "outputs": []
    },
    {
      "cell_type": "code",
      "source": [
        "def extract_intent_node(state: dict) -> dict:\n",
        "    user_query = state[\"user_query\"]\n",
        "\n",
        "    intent = structured_llm.invoke([system_prompt, user_query])\n",
        "\n",
        "    return {\n",
        "        \"goal\": intent.goal,\n",
        "        \"location\": intent.location,\n",
        "        \"state\": intent.state\n",
        "    }\n"
      ],
      "metadata": {
        "id": "KxU8Xc6-dRLg"
      },
      "execution_count": 7,
      "outputs": []
    },
    {
      "cell_type": "code",
      "source": [
        "import requests\n",
        "\n",
        "def geocode_location(location_name: str):\n",
        "    url = f\"https://nominatim.openstreetmap.org/search?q={location_name}&format=json\"\n",
        "    r = requests.get(url, headers={\"User-Agent\": \"LangGraph-Mangrove-Agent\"})\n",
        "    data = r.json()\n",
        "    if not data:\n",
        "        raise ValueError(f\"Could not geocode location: {location_name}\")\n",
        "    lat = float(data[0][\"lat\"])\n",
        "    lon = float(data[0][\"lon\"])\n",
        "    return (lat, lon)\n"
      ],
      "metadata": {
        "id": "FdnCKJqtdUB8"
      },
      "execution_count": 8,
      "outputs": []
    },
    {
      "cell_type": "markdown",
      "source": [
        "# Forecast"
      ],
      "metadata": {
        "id": "6h00UgU6deBs"
      }
    },
    {
      "cell_type": "code",
      "source": [
        "import pandas as pd\n",
        "\n",
        "def load_stations(csv_path: str, state_abbr: str) -> list[dict]:\n",
        "    df = pd.read_csv(csv_path)\n",
        "\n",
        "    # Ensure state column exists and is properly formatted\n",
        "    if \"state\" not in df.columns:\n",
        "        raise ValueError(\"Missing 'state' column in station CSV.\")\n",
        "\n",
        "    if not state_abbr:  # 💡 Fix: don't attempt upper() on None\n",
        "        return []\n",
        "\n",
        "    filtered = df[df[\"state\"].str.upper() == state_abbr.upper()]\n",
        "    return filtered.to_dict(orient=\"records\")  # for LLM ranking\n",
        ""
      ],
      "metadata": {
        "id": "IdX2YyzSdW0W"
      },
      "execution_count": 9,
      "outputs": []
    },
    {
      "cell_type": "code",
      "source": [
        "def ask_llm_rank_stations(location: str, station_list: list[dict], variable: str) -> list[dict]:\n",
        "    station_names = [s['name'] for s in station_list]\n",
        "\n",
        "    prompt = f\"\"\"\n",
        "    The user is asking about: {location}\n",
        "    Sensor type: {variable}\n",
        "\n",
        "    Here are some stations in the same U.S. state:\n",
        "    {station_names}\n",
        "\n",
        "    Rank the top 5 stations that are most relevant or closest to the location. Respond with a list of names (copy them exactly from the list).\n",
        "    \"\"\"\n",
        "\n",
        "    response = llm.invoke(prompt).content\n",
        "    print(f\"=== Top 5 Nearest {variable.title()} Station ===\") # Raw LLM Output\n",
        "    print(response)\n",
        "    print()\n",
        "\n",
        "    # Normalize and remove list numbering (e.g., \"1. Station Name\")\n",
        "    import re\n",
        "    ranked_names = [\n",
        "        re.sub(r\"^\\d+\\.\\s*\", \"\", name.strip().lower())\n",
        "        for name in response.split(\"\\n\")\n",
        "        if name.strip()\n",
        "    ]\n",
        "\n",
        "    matched = []\n",
        "    for ranked_name in ranked_names:\n",
        "        for s in station_list:\n",
        "            if ranked_name in s[\"name\"].lower():\n",
        "                matched.append(s)\n",
        "                break\n",
        "    return matched[:5]\n"
      ],
      "metadata": {
        "id": "DYqTS1rQdfY9"
      },
      "execution_count": 10,
      "outputs": []
    },
    {
      "cell_type": "code",
      "source": [
        "def select_station_by_location_node(state: dict) -> dict:\n",
        "    location = state.get(\"location\")\n",
        "    state_abbr = state.get(\"state\")\n",
        "\n",
        "    # if not location or not state_abbr:\n",
        "    #     # Fallback to default station IDs\n",
        "    #     return {\n",
        "    #         \"station_ids\": {\n",
        "    #             \"wind\": \"42020\",\n",
        "    #             \"water\": \"8723970\"\n",
        "    #         }\n",
        "    #     }\n",
        "\n",
        "    # Filter station lists by state\n",
        "    wind_stations = load_stations(\"wind_speed_stations.csv\", state_abbr)\n",
        "    water_stations = load_stations(\"water_level_stations.csv\", state_abbr)\n",
        "\n",
        "    # Exit early if state is not in CSV = nothing to process = avoid indexing\n",
        "    if not wind_stations and not water_stations:\n",
        "        return {\n",
        "            \"station_ids\": {},\n",
        "            \"station_candidates\": {},\n",
        "            \"data_available\": []\n",
        "        }\n",
        "\n",
        "    # Ask LLM to rank stations by proximity to 'location'\n",
        "    ranked_wind = ask_llm_rank_stations(location, wind_stations, \"wind\")\n",
        "    ranked_water = ask_llm_rank_stations(location, water_stations, \"water level\")\n",
        "\n",
        "    return {\n",
        "        \"station_ids\": {\n",
        "            \"wind\": ranked_wind[0][\"station_id\"],\n",
        "            \"water\": ranked_water[0][\"station_id\"]\n",
        "        },\n",
        "        \"station_candidates\": {\n",
        "            \"wind\": [s[\"station_id\"] for s in ranked_wind],\n",
        "            \"water\": [s[\"station_id\"] for s in ranked_water]\n",
        "        }\n",
        "    }"
      ],
      "metadata": {
        "id": "RNhfSbqWdreS"
      },
      "execution_count": 11,
      "outputs": []
    },
    {
      "cell_type": "code",
      "source": [
        "def fetch_wind_speed(station_id: str) -> Optional[float]:\n",
        "    url = \"https://api.tidesandcurrents.noaa.gov/api/prod/datagetter\"\n",
        "    params = {\n",
        "        \"date\": \"latest\",\n",
        "        \"station\": station_id,\n",
        "        \"product\": \"wind\",\n",
        "        \"units\": \"english\",\n",
        "        \"time_zone\": \"gmt\",\n",
        "        \"format\": \"json\"\n",
        "    }\n",
        "\n",
        "    try:\n",
        "        r = requests.get(url, params=params, timeout=5)\n",
        "        if not r.ok:\n",
        "            print(f\"[{station_id}] Bad response: {r.status_code}\")\n",
        "            return None\n",
        "\n",
        "        data = r.json()\n",
        "        if \"data\" not in data or not data[\"data\"]:\n",
        "            print(f\"[{station_id}] No 'data' in wind response\")\n",
        "            return None\n",
        "\n",
        "        wind_speed = float(data[\"data\"][0][\"s\"])\n",
        "        return wind_speed\n",
        "    except Exception as e:\n",
        "        print(f\"[{station_id}] Wind speed fetch error: {e}\")\n",
        "        return None\n"
      ],
      "metadata": {
        "id": "PlkDCqD4dw1u"
      },
      "execution_count": 12,
      "outputs": []
    },
    {
      "cell_type": "code",
      "source": [
        "def fetch_water_level(station_id: str) -> Optional[float]:\n",
        "    url = \"https://api.tidesandcurrents.noaa.gov/api/prod/datagetter\"\n",
        "    params = {\n",
        "        \"date\": \"latest\",\n",
        "        \"station\": station_id,\n",
        "        \"product\": \"water_level\",\n",
        "        \"datum\": \"MLLW\",\n",
        "        \"units\": \"english\",\n",
        "        \"time_zone\": \"gmt\",\n",
        "        \"format\": \"json\"\n",
        "    }\n",
        "\n",
        "    try:\n",
        "        r = requests.get(url, params=params, timeout=5)\n",
        "        r.raise_for_status()\n",
        "        data = r.json()\n",
        "        if \"data\" in data and data[\"data\"]:\n",
        "            return float(data[\"data\"][0][\"v\"])\n",
        "        print(f\"[{station_id}] No data in response.\")\n",
        "        return None\n",
        "    except Exception as e:\n",
        "        print(f\"[{station_id}] Water level fetch error: {e}\")\n",
        "        return None\n"
      ],
      "metadata": {
        "id": "5TkPH1dad4M7"
      },
      "execution_count": 13,
      "outputs": []
    },
    {
      "cell_type": "code",
      "source": [
        "def try_fetch_with_fallback(fetch_func, candidate_ids: list[str]) -> Optional[float]:\n",
        "    for station_id in candidate_ids:\n",
        "        result = fetch_func(station_id)\n",
        "        if result is not None:\n",
        "            return result\n",
        "    return None\n"
      ],
      "metadata": {
        "id": "8P80kY6id57W"
      },
      "execution_count": 14,
      "outputs": []
    },
    {
      "cell_type": "code",
      "source": [
        "def fetch_environmental_data_node(state: dict) -> dict:\n",
        "    stations = state.get(\"station_ids\", {})\n",
        "    candidates = state.get(\"station_candidates\", {})\n",
        "\n",
        "    wind_ids = candidates.get(\"wind\", [stations.get(\"wind\")]) if \"wind\" in stations else []\n",
        "    water_ids = candidates.get(\"water\", [stations.get(\"water\")]) if \"water\" in stations else []\n",
        "\n",
        "    wind = try_fetch_with_fallback(fetch_wind_speed, wind_ids) if wind_ids else None\n",
        "    water = try_fetch_with_fallback(fetch_water_level, water_ids) if water_ids else None\n",
        "\n",
        "    return {\n",
        "        \"environmental_data\": {\n",
        "            \"wind_speed\": wind,\n",
        "            \"water_level\": water\n",
        "        }\n",
        "    }\n"
      ],
      "metadata": {
        "id": "_We45gkld9H8"
      },
      "execution_count": 15,
      "outputs": []
    },
    {
      "cell_type": "code",
      "source": [
        "import ee\n",
        "import datetime\n",
        "\n",
        "ee.Authenticate()\n",
        "\n",
        "# Initialize with your project\n",
        "ee.Initialize(project='ee-lgharijanto123')\n",
        "\n",
        "def get_cleaned_weekly_ndvi_series(lat: float, lon: float, days_back: int = 70) -> list[float]:\n",
        "    point = ee.Geometry.Point([lon, lat])\n",
        "    study_area = point.buffer(16000)\n",
        "\n",
        "    today = datetime.date.today()\n",
        "    start = ee.Date(today.strftime('%Y-%m-%d')).advance(-days_back, 'day')\n",
        "\n",
        "    def add_ndvi(image):\n",
        "        ndvi = image.normalizedDifference(['sur_refl_b02', 'sur_refl_b01']).rename('NDVI')\n",
        "        return image.addBands(ndvi)\n",
        "\n",
        "    def extract_mean(image):\n",
        "        mean = image.select('NDVI').reduceRegion(\n",
        "            reducer=ee.Reducer.mean(),\n",
        "            geometry=study_area,\n",
        "            scale=500,\n",
        "            maxPixels=1e9,\n",
        "            bestEffort=True\n",
        "        ).get('NDVI')\n",
        "        return ee.Feature(None, {'ndvi': mean})\n",
        "\n",
        "    ndvi_series = (\n",
        "        ee.ImageCollection('MODIS/061/MOD09GA')\n",
        "        .filterBounds(study_area)\n",
        "        .filterDate(start, ee.Date(today.strftime('%Y-%m-%d')))\n",
        "        .map(add_ndvi)\n",
        "        .map(extract_mean)\n",
        "        .filter(ee.Filter.notNull(['ndvi']))\n",
        "    )\n",
        "\n",
        "    ndvi_list = ndvi_series.aggregate_array('ndvi').getInfo()\n",
        "    ndvi_floats = [v / 10000 if v > 1 else v for v in ndvi_list]\n",
        "\n",
        "    if len(ndvi_floats) < 56:\n",
        "        raise ValueError(f\"Not enough data. Got {len(ndvi_floats)} daily values, need at least 56.\")\n",
        "\n",
        "    weekly_ndvi = []\n",
        "    for i in range(0, len(ndvi_floats) - 56 + 56, 7):\n",
        "        chunk = ndvi_floats[i:i+7]\n",
        "        if len(chunk) == 7:\n",
        "            weekly_ndvi.append(sum(chunk) / 7)\n",
        "\n",
        "    if len(weekly_ndvi) < 8:\n",
        "        raise ValueError(f\"Only {len(weekly_ndvi)} weekly values found, need 8.\")\n",
        "\n",
        "    return weekly_ndvi[-8:]\n"
      ],
      "metadata": {
        "id": "5qGLEBmqd_Vv"
      },
      "execution_count": 16,
      "outputs": []
    },
    {
      "cell_type": "code",
      "source": [
        "def fetch_weekly_noaa_lags_chunked(station_id: str, product: str, total_days: int = 56) -> list[float]:\n",
        "    from datetime import datetime, timedelta\n",
        "    import requests\n",
        "    import pandas as pd\n",
        "\n",
        "    end = datetime.utcnow().date()\n",
        "    start = end - timedelta(days=total_days)\n",
        "\n",
        "    # Break range into 3 chunks (e.g., 18 + 19 + 19 days)\n",
        "    chunk_starts = [start + timedelta(days=i * 18) for i in range(3)]\n",
        "    chunk_ends = [min(s + timedelta(days=18), end) for s in chunk_starts]\n",
        "\n",
        "    all_dfs = []\n",
        "\n",
        "    for chunk_start, chunk_end in zip(chunk_starts, chunk_ends):\n",
        "        params = {\n",
        "            \"begin_date\": chunk_start.strftime(\"%Y%m%d\"),\n",
        "            \"end_date\": chunk_end.strftime(\"%Y%m%d\"),\n",
        "            \"station\": station_id,\n",
        "            \"product\": product,\n",
        "            \"datum\": \"MLLW\" if product == \"water_level\" else None,\n",
        "            \"interval\": \"h\",  # Hourly granularity\n",
        "            \"units\": \"english\",\n",
        "            \"time_zone\": \"gmt\",\n",
        "            \"format\": \"json\"\n",
        "        }\n",
        "\n",
        "        try:\n",
        "            r = requests.get(\"https://api.tidesandcurrents.noaa.gov/api/prod/datagetter\",\n",
        "                             params={k: v for k, v in params.items() if v is not None},\n",
        "                             timeout=15)\n",
        "            r.raise_for_status()\n",
        "            data = r.json().get(\"data\", [])\n",
        "            if not data:\n",
        "                continue\n",
        "\n",
        "            df = pd.DataFrame(data)\n",
        "            df[\"t\"] = pd.to_datetime(df[\"t\"])\n",
        "            df.set_index(\"t\", inplace=True)\n",
        "\n",
        "            value_col = \"s\" if product == \"wind\" else \"v\"\n",
        "            df[value_col] = pd.to_numeric(df[value_col], errors=\"coerce\")\n",
        "\n",
        "            all_dfs.append(df)\n",
        "\n",
        "        except Exception as e:\n",
        "            print(f\"Chunk {chunk_start}–{chunk_end} failed: {e}\")\n",
        "\n",
        "    if not all_dfs:\n",
        "        print(f\"No valid data collected for {product}.\")\n",
        "        return []\n",
        "\n",
        "    full_df = pd.concat(all_dfs).sort_index()\n",
        "\n",
        "    # Resample into weekly means (week ends Sunday by default)\n",
        "    value_col = \"s\" if product == \"wind\" else \"v\"\n",
        "    weekly = full_df[value_col].resample(\"W\").mean().dropna()\n",
        "\n",
        "    if len(weekly) < 8:\n",
        "        print(f\"Only {len(weekly)} weekly values found for {product}, expected 8.\")\n",
        "        return weekly.tolist()  # Return whatever we have\n",
        "\n",
        "    return weekly.tail(8).tolist()\n"
      ],
      "metadata": {
        "id": "Gc1dpXR6eCNI"
      },
      "execution_count": 17,
      "outputs": []
    },
    {
      "cell_type": "code",
      "source": [
        "import pandas as pd\n",
        "\n",
        "def build_feature_vector_node(state: dict) -> dict:\n",
        "    try:\n",
        "        # Fetch 8 weeks (current + 7 lags)\n",
        "        wind_vals = fetch_weekly_noaa_lags_chunked(state[\"station_ids\"][\"wind\"], \"wind\")\n",
        "        water_vals = fetch_weekly_noaa_lags_chunked(state[\"station_ids\"][\"water\"], \"water_level\")\n",
        "        ndvi_vals = get_cleaned_weekly_ndvi_series(*state[\"gps\"])\n",
        "\n",
        "        if len(wind_vals) < 8 or len(water_vals) < 8 or len(ndvi_vals) < 8:\n",
        "            print(\"Insufficient weekly data.\")\n",
        "            return {\"feature_vector\": [], \"feature_df\": None}\n",
        "\n",
        "        # Build DataFrame (already in chronological order: oldest → newest)\n",
        "        df = pd.DataFrame({\n",
        "            \"tide_verified\": water_vals,\n",
        "            \"wind_speed\": wind_vals,\n",
        "            \"ndvi\": ndvi_vals\n",
        "        })\n",
        "\n",
        "        # Add artificial weekly dates (most recent week = today)\n",
        "        base_date = pd.to_datetime(\"today\").normalize()\n",
        "        df[\"date\"] = [base_date - pd.Timedelta(weeks=i) for i in reversed(range(len(df)))]\n",
        "        df.set_index(\"date\", inplace=True)\n",
        "\n",
        "        # Add lag features (1–7)\n",
        "        for col in [\"tide_verified\", \"wind_speed\", \"ndvi\"]:\n",
        "            for lag in range(1, 8):\n",
        "                df[f\"{col}_lag_{lag}\"] = df[col].shift(lag)\n",
        "\n",
        "        # Drop NaNs → only final row will be complete\n",
        "        latest_row = df.dropna().iloc[-1]\n",
        "\n",
        "        # Select 21 lag features in model training order\n",
        "        # Get current values first\n",
        "        features = latest_row[[\"tide_verified\", \"wind_speed\"]].tolist()\n",
        "\n",
        "        # Add lags\n",
        "        features += latest_row[\n",
        "            [f\"{col}_lag_{i}\" for col in [\"tide_verified\", \"wind_speed\", \"ndvi\"] for i in range(1, 8)]\n",
        "        ].tolist()\n",
        "\n",
        "        print(\"[feature vector]\", features)\n",
        "\n",
        "        return {\n",
        "            \"feature_vector\": features,\n",
        "            \"feature_df\": df\n",
        "        }\n",
        "\n",
        "    except Exception as e:\n",
        "        print(\"Feature vector error:\", e)\n",
        "        return {\"feature_vector\": [], \"feature_df\": None}\n"
      ],
      "metadata": {
        "id": "qJ2xtkcjeJLb"
      },
      "execution_count": 18,
      "outputs": []
    },
    {
      "cell_type": "code",
      "source": [
        "import joblib\n",
        "import numpy as np\n",
        "\n",
        "# Load once at the top level (recommended)\n",
        "xgb_model = joblib.load(\"xgboost.pkl\")\n",
        "scaler = joblib.load(\"scaler.pkl\")\n",
        "\n",
        "def predict_ndvi_node(state: dict) -> dict:\n",
        "    try:\n",
        "        features = state.get(\"feature_vector\")\n",
        "        if not features or len(features) != 23:\n",
        "            print(\"Invalid or missing feature vector\")\n",
        "            return {\"ndvi_prediction\": None}\n",
        "\n",
        "        X = pd.DataFrame([features], columns=scaler.feature_names_in_)\n",
        "\n",
        "        X_scaled = scaler.transform(X)\n",
        "\n",
        "        pred = xgb_model.predict(X_scaled)[0]\n",
        "        print(\"NDVI Prediction:\", pred)\n",
        "\n",
        "        return {\"ndvi_prediction\": float(pred)}\n",
        "\n",
        "    except Exception as e:\n",
        "        print(\"Prediction error:\", e)\n",
        "        return {\"ndvi_prediction\": None}\n"
      ],
      "metadata": {
        "id": "J-oEpNy5eOLu"
      },
      "execution_count": 19,
      "outputs": []
    },
    {
      "cell_type": "code",
      "source": [
        "from typing import TypedDict, Optional, Tuple, Dict, List\n",
        "\n",
        "class State(TypedDict):\n",
        "    # === User input & intent extraction ===\n",
        "    user_query: str                             # Always provided by the user\n",
        "    goal: Optional[str]                         # 'forecast' or 'research'\n",
        "    location: Optional[str]                     # e.g. \"Key West\"\n",
        "    state: Optional[str]                        # e.g. \"FL\"\n",
        "\n",
        "    # === Location resolution ===\n",
        "    gps: Optional[Tuple[float, float]]          # (lat, lon)\n",
        "\n",
        "    # === Station selection ===\n",
        "    station_ids: Optional[Dict[str, str]]       # {wind: id, water: id}\n",
        "    station_candidates: Optional[Dict[str, List[str]]]  # fallback ids\n",
        "\n",
        "    # === Real-time fetches\n",
        "    environmental_data: Optional[Dict[str, float]]  # {'wind_speed': val, 'water_level': val}\n",
        "\n",
        "    # === Weekly history (optional: for inspection only)\n",
        "    wind_lags: Optional[List[float]]\n",
        "    water_lags: Optional[List[float]]\n",
        "    ndvi_lags: Optional[List[float]]\n",
        "\n",
        "\n",
        "    # === Feature engineering ===\n",
        "    feature_vector: Optional[List[float]]       # Final model input\n",
        "    feature_df: Optional[\"pd.DataFrame\"]        # Optional for debugging\n",
        "\n",
        "    # === Model output ===\n",
        "    ndvi_prediction: Optional[float]\n",
        "    summary: Optional[str]\n",
        "    final_output: Optional[str]"
      ],
      "metadata": {
        "id": "A2OhgK8gelSd"
      },
      "execution_count": 20,
      "outputs": []
    },
    {
      "cell_type": "code",
      "source": [
        "from langchain_core.prompts import ChatPromptTemplate\n",
        "from langchain_core.runnables import Runnable\n",
        "\n",
        "summary_prompt = ChatPromptTemplate.from_template(\"\"\"\n",
        "You are a coastal ecology assistant.\n",
        "\n",
        "Given the following data:\n",
        "- User question: {user_query}\n",
        "- NDVI prediction: {ndvi_prediction}\n",
        "- Wind speed: {wind_speed}\n",
        "- Water level: {water_level}\n",
        "\n",
        "Generate a clear, concise 5-6 sentence summary of the mangrove condition and any notable environmental trends.\n",
        "- Always include all the numbers IF provided.\n",
        "- **DO NOT MENTION MISSING OR UNAVAILABLE DATA**\n",
        "- If the query depends on geographic specificity and no location was found, consider asking the user to clarify a region.\n",
        "\"\"\")\n",
        "\n",
        "summary_chain: Runnable = summary_prompt | llm\n",
        "\n",
        "\n",
        "def generate_summary_node(state: State) -> dict:\n",
        "    try:\n",
        "        response = summary_chain.invoke({\n",
        "            \"user_query\": state[\"user_query\"],\n",
        "            \"ndvi_prediction\": state[\"ndvi_prediction\"],\n",
        "            \"wind_speed\": state[\"environmental_data\"][\"wind_speed\"],\n",
        "            \"water_level\": state[\"environmental_data\"][\"water_level\"]\n",
        "        })\n",
        "\n",
        "        return {\n",
        "            \"summary\": response.content\n",
        "        }\n",
        "\n",
        "    except Exception as e:\n",
        "        print(\"[summary] Error:\", e)\n",
        "        return {\"summary\": \"Unable to generate summary.\"}\n"
      ],
      "metadata": {
        "id": "fgJ3t_DReQZH"
      },
      "execution_count": 21,
      "outputs": []
    },
    {
      "cell_type": "code",
      "source": [
        "def resolve_gps_from_location_node(state: dict) -> dict:\n",
        "    location = state.get(\"location\")\n",
        "    state_abbr = state.get(\"state\")\n",
        "\n",
        "    print(f\"[resolve_gps] location={location}, state={state_abbr}\")\n",
        "\n",
        "    if not location:\n",
        "        print(\"[resolve_gps] Missing location.\")\n",
        "        return {\"gps\": None}\n",
        "\n",
        "    try:\n",
        "        query = location if not state_abbr else f\"{location}, {state_abbr}\"\n",
        "        lat, lon = geocode_location(query)\n",
        "        print(f\"[resolve_gps] Geocoded → {lat}, {lon}\")\n",
        "        return {\"gps\": (lat, lon)}\n",
        "    except Exception as e:\n",
        "        print(\"[resolve_gps] Error:\", e)\n",
        "        return {\"gps\": None}\n"
      ],
      "metadata": {
        "id": "cnn3Od_tehnv"
      },
      "execution_count": 22,
      "outputs": []
    },
    {
      "cell_type": "code",
      "source": [
        "def fetch_ndvi_lags_node(state: dict) -> dict:\n",
        "    gps = state.get(\"gps\")\n",
        "    if not gps:\n",
        "        print(\"[ndvi lags] GPS missing\")\n",
        "        return {\"ndvi_lags\": []}\n",
        "    lat, lon = gps\n",
        "    ndvi_lags = get_cleaned_weekly_ndvi_series(lat, lon)[:7]\n",
        "    print(\"[ndvi lags]\", ndvi_lags)\n",
        "    return {\"ndvi_lags\": ndvi_lags}\n"
      ],
      "metadata": {
        "id": "OmgZ-O-aeqTi"
      },
      "execution_count": 23,
      "outputs": []
    },
    {
      "cell_type": "code",
      "source": [
        "def fetch_weekly_lags_node(state: dict) -> dict:\n",
        "    stations = state.get(\"station_ids\", {})\n",
        "    wind = fetch_weekly_noaa_lags_chunked(stations.get(\"wind\"), \"wind\")\n",
        "    water = fetch_weekly_noaa_lags_chunked(stations.get(\"water\"), \"water_level\")\n",
        "    print(\"[wind lags]\", wind)\n",
        "    print(\"[water lags]\", water)\n",
        "    return {\"wind_lags\": wind, \"water_lags\": water}\n"
      ],
      "metadata": {
        "id": "2Oq2g0jaesrU"
      },
      "execution_count": 24,
      "outputs": []
    },
    {
      "cell_type": "code",
      "source": [
        "from typing import Literal\n",
        "\n",
        "def route_by_goal(state: dict) -> Literal[\"forecast\", \"research\"]:\n",
        "    if state.get(\"goal\") == \"forecast\":\n",
        "        return \"forecast\"\n",
        "    return \"research\""
      ],
      "metadata": {
        "id": "VXbT7U_82aGw"
      },
      "execution_count": 25,
      "outputs": []
    },
    {
      "cell_type": "code",
      "source": [
        "from langgraph.graph import StateGraph, END\n",
        "\n",
        "# Initialize graph\n",
        "workflow = StateGraph(State)\n",
        "\n",
        "# --- Routing Entry ---\n",
        "workflow.add_node(\"extract_intent\", extract_intent_node)\n",
        "workflow.add_node(\"exit_early\", lambda state: {\"final_output\": \"[ROUTED TO RESEARCH AGENT]\"})\n",
        "\n",
        "workflow.set_entry_point(\"extract_intent\")\n",
        "workflow.add_conditional_edges(\"extract_intent\", route_by_goal, {\n",
        "    \"forecast\": \"select_stations\",\n",
        "    \"research\": \"exit_early\"\n",
        "})\n",
        "\n",
        "# --- Parallel metadata fetch ---\n",
        "workflow.add_node(\"select_stations\", select_station_by_location_node)\n",
        "workflow.add_node(\"resolve_gps\", resolve_gps_from_location_node)\n",
        "workflow.add_node(\"fetch_environmental_data\", fetch_environmental_data_node)\n",
        "workflow.add_node(\"fetch_weekly_lags\", fetch_weekly_lags_node)\n",
        "\n",
        "workflow.add_edge(\"select_stations\", \"resolve_gps\")\n",
        "workflow.add_edge(\"select_stations\", \"fetch_environmental_data\")\n",
        "workflow.add_edge(\"select_stations\", \"fetch_weekly_lags\")\n",
        "\n",
        "# --- Parallel NDVI + Weekly Lags ---\n",
        "workflow.add_node(\"fetch_ndvi_lags\", fetch_ndvi_lags_node)\n",
        "workflow.add_edge(\"resolve_gps\", \"fetch_ndvi_lags\")\n",
        "\n",
        "# --- Feature Engineering + Prediction ---\n",
        "workflow.add_node(\"build_feature_vector\", build_feature_vector_node)\n",
        "workflow.add_node(\"predict_ndvi\", predict_ndvi_node)\n",
        "workflow.add_node(\"generate_summary\", generate_summary_node)\n",
        "\n",
        "workflow.add_edge(\"fetch_ndvi_lags\", \"build_feature_vector\")\n",
        "workflow.add_edge(\"fetch_weekly_lags\", \"build_feature_vector\")\n",
        "workflow.add_edge(\"build_feature_vector\", \"predict_ndvi\")\n",
        "workflow.add_edge(\"predict_ndvi\", \"generate_summary\")\n",
        "workflow.add_edge(\"generate_summary\", END)\n",
        "\n",
        "# Compile\n",
        "app = workflow.compile()\n"
      ],
      "metadata": {
        "id": "HsFGJ62f2Q-I"
      },
      "execution_count": 26,
      "outputs": []
    },
    {
      "cell_type": "code",
      "source": [
        "result = app.invoke({\"user_query\": \"How are mangroves doing in Key West?\"})"
      ],
      "metadata": {
        "colab": {
          "base_uri": "https://localhost:8080/"
        },
        "id": "BumMFUTclReJ",
        "outputId": "0b472a6e-227c-4ae8-8f61-1aa89ec41449"
      },
      "execution_count": 27,
      "outputs": [
        {
          "output_type": "stream",
          "name": "stdout",
          "text": [
            "=== Top 5 Nearest Wind Station ===\n",
            "1. Key West, FL\n",
            "2. Vaca Key, Florida Bay, FL\n",
            "3. Fort Myers, FL\n",
            "4. Navy Fuel Depot, FL\n",
            "5. Virginia Key, FL\n",
            "\n",
            "=== Top 5 Nearest Water Level Station ===\n",
            "1. Key West, FL\n",
            "2. Vaca Key, Florida Bay, FL\n",
            "3. Virginia Key, FL\n",
            "4. South Port Everglades, FL\n",
            "5. Naples Bay, North, FL\n",
            "\n",
            "[resolve_gps] location=Key West, state=FL\n",
            "[resolve_gps] Geocoded → 24.5548262, -81.8020722\n",
            "[wind lags] [8.817380952380953, 9.12484375, 8.936190476190475, 8.84607142857143, 8.778385416666667, 8.63452380952381, 11.011666666666667, 10.238333333333333]\n",
            "[water lags] [0.8182613095238096, 1.2668296875, 1.1934892857142856, 1.0953577380952382, 0.9231151041666668, 1.023640476190476, 1.0700666666666667, 0.9236666666666667]\n",
            "[ndvi lags] [-0.2825340913753243, -0.3797324490112777, -0.21891654672869104, -0.12425821835979202, -0.35854588817151856, -0.29455943701618353, -0.34007538183998404]\n",
            "[feature vector] [0.9236666666666667, 10.238333333333333, 1.0700666666666667, 1.023640476190476, 0.9231151041666668, 1.0953577380952382, 1.1934892857142856, 1.2668296875, 0.8182613095238096, 11.011666666666667, 8.63452380952381, 8.778385416666667, 8.84607142857143, 8.936190476190475, 9.12484375, 8.817380952380953, -0.34007538183998404, -0.29455943701618353, -0.35854588817151856, -0.12425821835979202, -0.21891654672869104, -0.3797324490112777, -0.2825340913753243]\n",
            "NDVI Prediction: 0.4308407\n",
            "[feature vector] [0.9236666666666667, 10.238333333333333, 1.0700666666666667, 1.023640476190476, 0.9231151041666668, 1.0953577380952382, 1.1934892857142856, 1.2668296875, 0.8182613095238096, 11.011666666666667, 8.63452380952381, 8.778385416666667, 8.84607142857143, 8.936190476190475, 9.12484375, 8.817380952380953, -0.34007538183998404, -0.29455943701618353, -0.35854588817151856, -0.12425821835979202, -0.21891654672869104, -0.3797324490112777, -0.2825340913753243]\n",
            "NDVI Prediction: 0.4308407\n"
          ]
        }
      ]
    },
    {
      "cell_type": "code",
      "source": [
        "print(result['summary'])"
      ],
      "metadata": {
        "colab": {
          "base_uri": "https://localhost:8080/"
        },
        "id": "zbJfdxMmey1V",
        "outputId": "c822cf73-935f-4949-9a59-b60a8acc2cfc"
      },
      "execution_count": 28,
      "outputs": [
        {
          "output_type": "stream",
          "name": "stdout",
          "text": [
            "Mangroves in Key West appear to be in moderate condition, as suggested by the NDVI (Normalized Difference Vegetation Index) prediction of 0.4308. This value indicates a healthy, but not optimal, level of vegetation density and vigor. The current wind speed of 15.16 mph is typical for coastal regions but can influence mangrove stability and health, especially during storm events. Additionally, the water level is at 1.569 meters, which is within a range that generally supports mangrove ecosystems by providing necessary tidal flows and nutrient exchanges. Overall, while the environmental conditions support mangrove health, monitoring is essential to ensure that these critical ecosystems remain resilient.\n"
          ]
        }
      ]
    },
    {
      "cell_type": "markdown",
      "source": [
        "# LangChain"
      ],
      "metadata": {
        "id": "RT8d6EvDmAxF"
      }
    },
    {
      "cell_type": "code",
      "source": [
        "from langchain.chains import ConversationalRetrievalChain\n",
        "from langchain.memory import ConversationBufferMemory\n",
        "from langchain_openai import OpenAIEmbeddings\n",
        "from langchain_pinecone import Pinecone\n",
        "\n",
        "# Setup memory\n",
        "memory = ConversationBufferMemory(memory_key=\"chat_history\", return_messages=True)\n",
        "\n",
        "# Setup retriever\n",
        "embeddings = OpenAIEmbeddings()\n",
        "db = Pinecone.from_existing_index(index_name=\"mangrove-index\", embedding=embeddings)\n",
        "retriever = db.as_retriever()\n",
        "\n",
        "# Research chain\n",
        "research_chain = ConversationalRetrievalChain.from_llm(llm, retriever=retriever, memory=memory)"
      ],
      "metadata": {
        "colab": {
          "base_uri": "https://localhost:8080/"
        },
        "id": "avZhUlAomCmL",
        "outputId": "3a475efd-7cef-4a11-d9e7-e9743f0c989e"
      },
      "execution_count": 29,
      "outputs": [
        {
          "output_type": "stream",
          "name": "stderr",
          "text": [
            "<ipython-input-29-0a31e7ae05c5>:7: LangChainDeprecationWarning: Please see the migration guide at: https://python.langchain.com/docs/versions/migrating_memory/\n",
            "  memory = ConversationBufferMemory(memory_key=\"chat_history\", return_messages=True)\n"
          ]
        }
      ]
    },
    {
      "cell_type": "code",
      "source": [
        "def forecast_chain(user_query: str) -> str:\n",
        "    result = app.invoke({\"user_query\": user_query})\n",
        "    return result.get(\"summary\", \"No forecast available.\")\n"
      ],
      "metadata": {
        "id": "FXdSOvuHmDtN"
      },
      "execution_count": 30,
      "outputs": []
    },
    {
      "cell_type": "code",
      "source": [
        "def run_research_chain(user_query: str) -> str:\n",
        "    raw_response = research_chain.invoke({\"question\": user_query})\n",
        "    return raw_response.get(\"answer\") if isinstance(raw_response, dict) else str(raw_response)\n"
      ],
      "metadata": {
        "id": "bCJB2YNWwVrg"
      },
      "execution_count": 31,
      "outputs": []
    },
    {
      "cell_type": "code",
      "source": [
        "structured_llm = llm.with_structured_output(QueryIntent)"
      ],
      "metadata": {
        "id": "8Djm_qjHmLta"
      },
      "execution_count": 32,
      "outputs": []
    },
    {
      "cell_type": "code",
      "source": [
        "def extract_goal_and_location(user_query: str):\n",
        "    intent = structured_llm.invoke([system_prompt, user_query])\n",
        "    return intent.goal\n"
      ],
      "metadata": {
        "id": "YU5cxclomPkE"
      },
      "execution_count": 33,
      "outputs": []
    },
    {
      "cell_type": "code",
      "source": [
        "def run_agent(user_query: str):\n",
        "    print(f\"🧪 User query: {user_query}\")\n",
        "\n",
        "    goal = extract_goal_and_location(user_query)\n",
        "    print(f\"🔍 Detected goal: {goal}\")\n",
        "\n",
        "    if goal == \"forecast\":\n",
        "        final_output = forecast_chain(user_query)\n",
        "\n",
        "        memory.save_context({\"input\": user_query}, {\"output\": final_output})\n",
        "\n",
        "    elif goal == \"research\":\n",
        "        final_output = run_research_chain(user_query)\n",
        "\n",
        "    else:\n",
        "        final_output = \"Unrecognized goal.\"\n",
        "\n",
        "    return {\"final_output\": final_output}\n"
      ],
      "metadata": {
        "id": "-ZVK-Clzo77K"
      },
      "execution_count": 34,
      "outputs": []
    },
    {
      "cell_type": "code",
      "source": [
        "def print_chat_history():\n",
        "    print(\"🧠 Chat History:\")\n",
        "    for msg in memory.chat_memory.messages:\n",
        "        role = \"👤 User\" if msg.type == \"human\" else \"🤖 Assistant\"\n",
        "        print(f\"{role}: {msg.content}\\n\")\n"
      ],
      "metadata": {
        "id": "GJvECXfsrwBJ"
      },
      "execution_count": 35,
      "outputs": []
    },
    {
      "cell_type": "code",
      "source": [
        "memory.clear()"
      ],
      "metadata": {
        "id": "IqzPgEWCtHdE"
      },
      "execution_count": 36,
      "outputs": []
    },
    {
      "cell_type": "code",
      "source": [
        "response = run_agent(\"What are mangroves?\")\n",
        "print(f'🤖 LLM Answer: {response[\"final_output\"]}')\n",
        "print()\n",
        "\n",
        "response = run_agent(\"How are mangroves doing in Florida?\")\n",
        "print(f'🤖 LLM Answer: {response[\"final_output\"]}')\n",
        "print()\n",
        "\n",
        "print_chat_history()\n"
      ],
      "metadata": {
        "colab": {
          "base_uri": "https://localhost:8080/"
        },
        "id": "ZzvYAmCdo_yq",
        "outputId": "f4e886ee-b0ed-4f66-800f-91fd5cc75242"
      },
      "execution_count": 37,
      "outputs": [
        {
          "output_type": "stream",
          "name": "stdout",
          "text": [
            "🧪 User query: What are mangroves?\n",
            "🔍 Detected goal: research\n",
            "🤖 LLM Answer: Mangroves are a taxonomically diverse group of approximately 70 tree, shrub, and fern species that grow in anoxic (oxygen-poor) and saline peaty soils on sheltered, tropical coasts. These species belong to at least 25 genera and 19 families. Mangroves are well adapted to their challenging environment, sharing genetic, morphological, physiological, and functional traits that demonstrate convergent evolution in response to similar environmental constraints. They can be found throughout the tropics, with major genera like Rhizophora and Avicennia present in both the Indo-West Pacific and the Atlantic, Caribbean, and Eastern Pacific realms. Mangroves are known for forming dense, often monospecific stands that create habitats for numerous terrestrial, intertidal, and marine species, stabilize shorelines, and modulate nutrient cycling and energy flow. They are an important coastal ecosystem with high net primary productivity, contributing significantly to the health of coastal environments.\n",
            "\n",
            "🧪 User query: How are mangroves doing in Florida?\n",
            "🔍 Detected goal: forecast\n",
            "=== Top 5 Nearest Wind Station ===\n",
            "1. Fernandina Beach, FL\n",
            "2. Navy Fuel Depot, FL\n",
            "3. Mayport (Bar Pilots Dock), FL\n",
            "4. Dames Point, FL\n",
            "5. Little Jetties Visibility, FL\n",
            "\n",
            "=== Top 5 Nearest Water Level Station ===\n",
            "1. Fernandina Beach, FL\n",
            "2. Mayport (Bar Pilots Dock), FL\n",
            "3. Dames Point, FL\n",
            "4. Southbank Riverwalk, St Johns River, FL\n",
            "5. I-295 Buckman Bridge, FL\n",
            "\n",
            "[resolve_gps] location=Florida, state=FL\n",
            "[resolve_gps] Geocoded → 27.25, -81.25\n",
            "[wind lags] [5.561964285714286, 5.3617187500000005, 7.209761904761905, 6.2285119047619055, 6.511927083333333, 4.247678571428572, 6.292321428571428, 6.57]\n",
            "[water lags] [3.232758333333333, 3.316521354166667, 3.1582547619047623, 3.3766011904761903, 3.0655234375, 2.980697023809524, 3.117341071428571, 2.5534166666666667]\n",
            "[ndvi lags] [0.29539998095847386, 0.4371761886236212, 0.29226170867552886, 0.3692485623510499, 0.46007274435863915, 0.45907176497866053, 0.4833287349292034]\n",
            "[feature vector] [2.5534166666666667, 6.57, 3.117341071428571, 2.980697023809524, 3.0655234375, 3.3766011904761903, 3.1582547619047623, 3.316521354166667, 3.232758333333333, 6.292321428571428, 4.247678571428572, 6.511927083333333, 6.2285119047619055, 7.209761904761905, 5.3617187500000005, 5.561964285714286, 0.4833287349292034, 0.45907176497866053, 0.46007274435863915, 0.3692485623510499, 0.29226170867552886, 0.4371761886236212, 0.29539998095847386]\n",
            "NDVI Prediction: 0.48316243\n",
            "[feature vector] [2.5534166666666667, 6.57, 3.117341071428571, 2.980697023809524, 3.0655234375, 3.3766011904761903, 3.1582547619047623, 3.316521354166667, 3.232758333333333, 6.292321428571428, 4.247678571428572, 6.511927083333333, 6.2285119047619055, 7.209761904761905, 5.3617187500000005, 5.561964285714286, 0.4833287349292034, 0.45907176497866053, 0.46007274435863915, 0.3692485623510499, 0.29226170867552886, 0.4371761886236212, 0.29539998095847386]\n",
            "NDVI Prediction: 0.48316243\n",
            "🤖 LLM Answer: The current condition of mangroves in Florida, as indicated by the NDVI prediction of 0.483, suggests a moderate level of vegetation health. Mangroves are likely experiencing stable growth and productivity under these conditions. The wind speed of 1.56 m/s is relatively calm, which is conducive to maintaining a stable habitat for mangroves, as high wind speeds can lead to erosion and physical damage. Additionally, the water level is 3.934 meters, which is within a range that supports healthy mangrove ecosystems, allowing for proper inundation and nutrient exchange. Overall, these environmental factors indicate favorable conditions for mangrove sustainability in Florida.\n",
            "\n",
            "🧠 Chat History:\n",
            "👤 User: What are mangroves?\n",
            "\n",
            "🤖 Assistant: Mangroves are a taxonomically diverse group of approximately 70 tree, shrub, and fern species that grow in anoxic (oxygen-poor) and saline peaty soils on sheltered, tropical coasts. These species belong to at least 25 genera and 19 families. Mangroves are well adapted to their challenging environment, sharing genetic, morphological, physiological, and functional traits that demonstrate convergent evolution in response to similar environmental constraints. They can be found throughout the tropics, with major genera like Rhizophora and Avicennia present in both the Indo-West Pacific and the Atlantic, Caribbean, and Eastern Pacific realms. Mangroves are known for forming dense, often monospecific stands that create habitats for numerous terrestrial, intertidal, and marine species, stabilize shorelines, and modulate nutrient cycling and energy flow. They are an important coastal ecosystem with high net primary productivity, contributing significantly to the health of coastal environments.\n",
            "\n",
            "👤 User: How are mangroves doing in Florida?\n",
            "\n",
            "🤖 Assistant: The current condition of mangroves in Florida, as indicated by the NDVI prediction of 0.483, suggests a moderate level of vegetation health. Mangroves are likely experiencing stable growth and productivity under these conditions. The wind speed of 1.56 m/s is relatively calm, which is conducive to maintaining a stable habitat for mangroves, as high wind speeds can lead to erosion and physical damage. Additionally, the water level is 3.934 meters, which is within a range that supports healthy mangrove ecosystems, allowing for proper inundation and nutrient exchange. Overall, these environmental factors indicate favorable conditions for mangrove sustainability in Florida.\n",
            "\n"
          ]
        }
      ]
    },
    {
      "cell_type": "code",
      "source": [
        "memory.clear()"
      ],
      "metadata": {
        "id": "UmktDNG2_2g-"
      },
      "execution_count": 38,
      "outputs": []
    },
    {
      "cell_type": "code",
      "source": [
        "response = run_agent(\"What are mangroves?\")\n",
        "print(f'🤖 LLM Answer: {response[\"final_output\"]}')\n",
        "print()\n",
        "\n",
        "response = run_agent(\"How are mangroves doing in Florida?\")\n",
        "print(f'🤖 LLM Answer: {response[\"final_output\"]}')\n",
        "print()\n",
        "\n",
        "print_chat_history()\n"
      ],
      "metadata": {
        "colab": {
          "base_uri": "https://localhost:8080/"
        },
        "id": "Udne6C2z_3vG",
        "outputId": "a56f32ed-1350-4485-e4ce-19c4d80decf5"
      },
      "execution_count": 39,
      "outputs": [
        {
          "output_type": "stream",
          "name": "stdout",
          "text": [
            "🧪 User query: What are mangroves?\n",
            "🔍 Detected goal: research\n",
            "🤖 LLM Answer: Mangroves are a taxonomically diverse group of approximately 70 tree, shrub, and fern species that grow in anoxic and saline peaty soils on sheltered, tropical coasts. They belong to at least 25 genera and 19 families. Mangroves share genetic, morphological, physiological, and functional traits that have evolved in response to similar environmental constraints. These adaptations allow them to thrive in extreme environments characterized by high salinity, tidal variations, strong winds, high temperatures, and anaerobic tidal swamps. Mangroves can be found throughout the tropics and form dense, often monospecific stands. They provide crucial habitats for many species, stabilize shorelines, and play a significant role in nutrient cycling and energy flow.\n",
            "\n",
            "🧪 User query: How are mangroves doing in Florida?\n",
            "🔍 Detected goal: forecast\n",
            "=== Top 5 Nearest Wind Station ===\n",
            "Here are the top 5 stations that are most relevant or closest to the location in Florida:\n",
            "\n",
            "1. Fernandina Beach, FL\n",
            "2. Navy Fuel Depot, FL\n",
            "3. Mayport (Bar Pilots Dock), FL\n",
            "4. Dames Point, FL\n",
            "5. Little Jetties Visibility, FL\n",
            "\n",
            "=== Top 5 Nearest Water Level Station ===\n",
            "1. Fernandina Beach, FL\n",
            "2. Mayport (Bar Pilots Dock), FL\n",
            "3. Dames Point, FL\n",
            "4. Southbank Riverwalk, St Johns River, FL\n",
            "5. I-295 Buckman Bridge, FL\n",
            "\n",
            "[resolve_gps] location=Florida, state=FL\n",
            "[resolve_gps] Geocoded → 27.25, -81.25\n",
            "[wind lags] [5.561964285714286, 5.3617187500000005, 7.209761904761905, 6.2285119047619055, 6.511927083333333, 4.247678571428572, 6.292321428571428, 6.57]\n",
            "[water lags] [3.232758333333333, 3.316521354166667, 3.1582547619047623, 3.3766011904761903, 3.0655234375, 2.980697023809524, 3.117341071428571, 2.5534166666666667]\n",
            "[ndvi lags] [0.29539998095847386, 0.4371761886236212, 0.29226170867552886, 0.3692485623510499, 0.46007274435863915, 0.45907176497866053, 0.4833287349292034]\n",
            "[feature vector] [2.5534166666666667, 6.57, 3.117341071428571, 2.980697023809524, 3.0655234375, 3.3766011904761903, 3.1582547619047623, 3.316521354166667, 3.232758333333333, 6.292321428571428, 4.247678571428572, 6.511927083333333, 6.2285119047619055, 7.209761904761905, 5.3617187500000005, 5.561964285714286, 0.4833287349292034, 0.45907176497866053, 0.46007274435863915, 0.3692485623510499, 0.29226170867552886, 0.4371761886236212, 0.29539998095847386]\n",
            "NDVI Prediction: 0.48316243\n",
            "[feature vector] [2.5534166666666667, 6.57, 3.117341071428571, 2.980697023809524, 3.0655234375, 3.3766011904761903, 3.1582547619047623, 3.316521354166667, 3.232758333333333, 6.292321428571428, 4.247678571428572, 6.511927083333333, 6.2285119047619055, 7.209761904761905, 5.3617187500000005, 5.561964285714286, 0.4833287349292034, 0.45907176497866053, 0.46007274435863915, 0.3692485623510499, 0.29226170867552886, 0.4371761886236212, 0.29539998095847386]\n",
            "NDVI Prediction: 0.48316243\n",
            "🤖 LLM Answer: Mangroves in Florida appear to be in relatively stable condition, as indicated by an NDVI prediction of 0.4832. This value suggests moderate vegetation health, reflecting typical conditions for these ecosystems. The current wind speed is 1.56, which is considered low and generally favorable for mangrove stability, as strong winds can cause physical damage to the trees. The water level is recorded at 3.934, highlighting a potentially higher tide or water presence around the mangroves, which is essential for their growth but could also indicate risks if levels continue to rise. Overall, these environmental indicators suggest that while the mangroves are maintaining their health, continuous monitoring is advisable to detect any significant changes.\n",
            "\n",
            "🧠 Chat History:\n",
            "👤 User: What are mangroves?\n",
            "\n",
            "🤖 Assistant: Mangroves are a taxonomically diverse group of approximately 70 tree, shrub, and fern species that grow in anoxic and saline peaty soils on sheltered, tropical coasts. They belong to at least 25 genera and 19 families. Mangroves share genetic, morphological, physiological, and functional traits that have evolved in response to similar environmental constraints. These adaptations allow them to thrive in extreme environments characterized by high salinity, tidal variations, strong winds, high temperatures, and anaerobic tidal swamps. Mangroves can be found throughout the tropics and form dense, often monospecific stands. They provide crucial habitats for many species, stabilize shorelines, and play a significant role in nutrient cycling and energy flow.\n",
            "\n",
            "👤 User: How are mangroves doing in Florida?\n",
            "\n",
            "🤖 Assistant: Mangroves in Florida appear to be in relatively stable condition, as indicated by an NDVI prediction of 0.4832. This value suggests moderate vegetation health, reflecting typical conditions for these ecosystems. The current wind speed is 1.56, which is considered low and generally favorable for mangrove stability, as strong winds can cause physical damage to the trees. The water level is recorded at 3.934, highlighting a potentially higher tide or water presence around the mangroves, which is essential for their growth but could also indicate risks if levels continue to rise. Overall, these environmental indicators suggest that while the mangroves are maintaining their health, continuous monitoring is advisable to detect any significant changes.\n",
            "\n"
          ]
        }
      ]
    },
    {
      "cell_type": "code",
      "source": [
        "response = run_agent(\"What is the impact of climate change on mangrove coverage?\")\n",
        "print(f'🤖 LLM Answer: {response[\"final_output\"]}')\n",
        "print()\n"
      ],
      "metadata": {
        "colab": {
          "base_uri": "https://localhost:8080/"
        },
        "id": "Qd4T3NsMACzW",
        "outputId": "80a2a904-9013-45bb-b540-66c37026d73d"
      },
      "execution_count": 40,
      "outputs": [
        {
          "output_type": "stream",
          "name": "stdout",
          "text": [
            "🧪 User query: What is the impact of climate change on mangrove coverage?\n",
            "🔍 Detected goal: research\n",
            "🤖 LLM Answer: Climate change impacts the coverage of mangroves in several ways. While rising sea levels, extreme heat, high precipitation, and frequent storms pose threats to mangrove cover, climate change can also lead to an expansion of their range. Rising sea levels and warming temperatures may create more suitable habitats, allowing mangroves to expand poleward as they adapt to these changing conditions. This has been observed in places like the Gulf of Mexico, where mangroves are expanding in states like Texas, Louisiana, and Florida. However, sea-level rise and other climate change factors can also lead to the flooding and potential extinction of mangrove forests if they are unable to migrate or adapt quickly enough. Additionally, changes in precipitation patterns affect mangrove expansion, with positive effects noted in areas like Moreton Bay, Australia. Therefore, climate change can lead to both expansion and contraction of mangrove coverage depending on regional conditions and adaptive responses.\n",
            "\n"
          ]
        }
      ]
    },
    {
      "cell_type": "code",
      "source": [
        "print_chat_history()\n"
      ],
      "metadata": {
        "colab": {
          "base_uri": "https://localhost:8080/"
        },
        "id": "MFNJGo0iAJpM",
        "outputId": "30cb1a7f-32d5-4e52-85a6-eaa5cf018daa"
      },
      "execution_count": 41,
      "outputs": [
        {
          "output_type": "stream",
          "name": "stdout",
          "text": [
            "🧠 Chat History:\n",
            "👤 User: What are mangroves?\n",
            "\n",
            "🤖 Assistant: Mangroves are a taxonomically diverse group of approximately 70 tree, shrub, and fern species that grow in anoxic and saline peaty soils on sheltered, tropical coasts. They belong to at least 25 genera and 19 families. Mangroves share genetic, morphological, physiological, and functional traits that have evolved in response to similar environmental constraints. These adaptations allow them to thrive in extreme environments characterized by high salinity, tidal variations, strong winds, high temperatures, and anaerobic tidal swamps. Mangroves can be found throughout the tropics and form dense, often monospecific stands. They provide crucial habitats for many species, stabilize shorelines, and play a significant role in nutrient cycling and energy flow.\n",
            "\n",
            "👤 User: How are mangroves doing in Florida?\n",
            "\n",
            "🤖 Assistant: Mangroves in Florida appear to be in relatively stable condition, as indicated by an NDVI prediction of 0.4832. This value suggests moderate vegetation health, reflecting typical conditions for these ecosystems. The current wind speed is 1.56, which is considered low and generally favorable for mangrove stability, as strong winds can cause physical damage to the trees. The water level is recorded at 3.934, highlighting a potentially higher tide or water presence around the mangroves, which is essential for their growth but could also indicate risks if levels continue to rise. Overall, these environmental indicators suggest that while the mangroves are maintaining their health, continuous monitoring is advisable to detect any significant changes.\n",
            "\n",
            "👤 User: What is the impact of climate change on mangrove coverage?\n",
            "\n",
            "🤖 Assistant: Climate change impacts the coverage of mangroves in several ways. While rising sea levels, extreme heat, high precipitation, and frequent storms pose threats to mangrove cover, climate change can also lead to an expansion of their range. Rising sea levels and warming temperatures may create more suitable habitats, allowing mangroves to expand poleward as they adapt to these changing conditions. This has been observed in places like the Gulf of Mexico, where mangroves are expanding in states like Texas, Louisiana, and Florida. However, sea-level rise and other climate change factors can also lead to the flooding and potential extinction of mangrove forests if they are unable to migrate or adapt quickly enough. Additionally, changes in precipitation patterns affect mangrove expansion, with positive effects noted in areas like Moreton Bay, Australia. Therefore, climate change can lead to both expansion and contraction of mangrove coverage depending on regional conditions and adaptive responses.\n",
            "\n"
          ]
        }
      ]
    },
    {
      "cell_type": "code",
      "source": [
        "response = run_agent(\"How are mangroves doing in Vermont?\")\n",
        "print(f'🤖 LLM Answer: {response[\"final_output\"]}')\n",
        "print()"
      ],
      "metadata": {
        "colab": {
          "base_uri": "https://localhost:8080/"
        },
        "id": "1UgOsIqBCKQx",
        "outputId": "7a83cbfd-0061-4b42-a6c5-0b0db80d810d"
      },
      "execution_count": 42,
      "outputs": [
        {
          "output_type": "stream",
          "name": "stdout",
          "text": [
            "🧪 User query: How are mangroves doing in Vermont?\n",
            "🔍 Detected goal: forecast\n",
            "[resolve_gps] location=Vermont, state=VT\n",
            "Chunk 2025-02-12–2025-03-02 failed: 400 Client Error: Bad Request for url: https://api.tidesandcurrents.noaa.gov/api/prod/datagetter?begin_date=20250212&end_date=20250302&product=wind&interval=h&units=english&time_zone=gmt&format=json\n",
            "Chunk 2025-03-02–2025-03-20 failed: 400 Client Error: Bad Request for url: https://api.tidesandcurrents.noaa.gov/api/prod/datagetter?begin_date=20250302&end_date=20250320&product=wind&interval=h&units=english&time_zone=gmt&format=json\n",
            "Chunk 2025-03-20–2025-04-07 failed: 400 Client Error: Bad Request for url: https://api.tidesandcurrents.noaa.gov/api/prod/datagetter?begin_date=20250320&end_date=20250407&product=wind&interval=h&units=english&time_zone=gmt&format=json\n",
            "No valid data collected for wind.\n",
            "Chunk 2025-02-12–2025-03-02 failed: 400 Client Error: Bad Request for url: https://api.tidesandcurrents.noaa.gov/api/prod/datagetter?begin_date=20250212&end_date=20250302&product=water_level&datum=MLLW&interval=h&units=english&time_zone=gmt&format=json\n",
            "Chunk 2025-03-02–2025-03-20 failed: 400 Client Error: Bad Request for url: https://api.tidesandcurrents.noaa.gov/api/prod/datagetter?begin_date=20250302&end_date=20250320&product=water_level&datum=MLLW&interval=h&units=english&time_zone=gmt&format=json\n",
            "Chunk 2025-03-20–2025-04-07 failed: 400 Client Error: Bad Request for url: https://api.tidesandcurrents.noaa.gov/api/prod/datagetter?begin_date=20250320&end_date=20250407&product=water_level&datum=MLLW&interval=h&units=english&time_zone=gmt&format=json\n",
            "No valid data collected for water_level.\n",
            "[wind lags] []\n",
            "[water lags] []\n",
            "[resolve_gps] Geocoded → 44.4737365, -73.19414679705882\n",
            "Feature vector error: 'wind'\n",
            "[ndvi lags] [0.0293994896093731, 0.014563726841210942, 0.015335824649263839, 0.004939049220265705, 0.015046734006584447, 0.13254919531593218, 0.11691675102757257]\n",
            "Feature vector error: 'wind'\n",
            "Invalid or missing feature vector\n",
            "Invalid or missing feature vector\n",
            "🤖 LLM Answer: Mangroves are not naturally found in Vermont, as they typically thrive in tropical and subtropical coastal regions. These unique ecosystems are usually located in areas closer to the equator, where temperatures are warmer and the environment is suitable for their growth. As such, Vermont's colder climate and geographical conditions do not support mangrove habitats. For information on mangroves, it would be more relevant to focus on coastal areas in southeastern United States, such as Florida. If you have a specific location in mind, please provide more details for a focused analysis.\n",
            "\n"
          ]
        }
      ]
    },
    {
      "cell_type": "code",
      "source": [
        "response = run_agent(\"How do mangrove forests contribute to carbon sequestration, and why are they considered important in the fight against climate change?\")\n",
        "print(f'🤖 LLM Answer: {response[\"final_output\"]}')\n",
        "print()\n",
        "\n",
        "response = run_agent(\"What adaptive strategies do mangroves employ to cope with rising sea levels and increased storm intensity?\")\n",
        "print(f'🤖 LLM Answer: {response[\"final_output\"]}')\n",
        "print()\n",
        "\n",
        "response = run_agent(\"In what ways does the biodiversity within mangrove ecosystems enhance their resilience to climate change impacts?\")\n",
        "print(f'🤖 LLM Answer: {response[\"final_output\"]}')\n",
        "print()\n",
        "\n",
        "response = run_agent(\"What are the main threats to mangrove ecosystems under current climate change scenarios, and what conservation strategies can be implemented to mitigate these threats?\")\n",
        "print(f'🤖 LLM Answer: {response[\"final_output\"]}')\n",
        "print()\n",
        "\n",
        "response = run_agent(\"How does the degradation of mangrove forests affect coastal communities, both environmentally and socioeconomically?\")\n",
        "print(f'🤖 LLM Answer: {response[\"final_output\"]}')\n",
        "print()\n",
        "\n",
        "response = run_agent(\"What role can policy and sustainable management practices play in protecting mangrove ecosystems in the context of global climate change?\")\n",
        "print(f'🤖 LLM Answer: {response[\"final_output\"]}')\n",
        "print()\n"
      ],
      "metadata": {
        "id": "X5XPmK3AANFC",
        "colab": {
          "base_uri": "https://localhost:8080/"
        },
        "outputId": "a60c4cd1-6637-41bc-ea79-00aca2b9b344"
      },
      "execution_count": 43,
      "outputs": [
        {
          "output_type": "stream",
          "name": "stdout",
          "text": [
            "🧪 User query: How do mangrove forests contribute to carbon sequestration, and why are they considered important in the fight against climate change?\n",
            "🔍 Detected goal: research\n",
            "🤖 LLM Answer: Mangrove forests are critical in carbon sequestration because they are among the most carbon-rich forests in the tropics. These ecosystems are highly efficient at carbon cycling and storage, being able to store five times more carbon per unit area than other forest ecosystems and up to three times more than other tropical forests. The role of mangroves as carbon sinks is significant because they store carbon both in their biomass and in the soil beneath them. The carbon stored in mangroves is coupled with oceanic transport mechanisms, including tidal action and currents, which helps to disperse and deposit carbon in shelf or deep water reservoirs where it can be immobilized for long periods, ranging from decades to millennia.\n",
            "\n",
            "This carbon sequestration ability makes mangrove forests a vital tool in the fight against climate change, as they help offset carbon dioxide emissions by locking away carbon that would otherwise contribute to atmospheric CO2 levels. However, the destruction and degradation of mangrove forests due to urbanization, deforestation, and increased demand for mangrove products can lead to the release of stored carbon back into the atmosphere, exacerbating climate change. Therefore, preserving and restoring mangrove ecosystems is essential for maintaining their carbon sequestration capabilities and mitigating climate change impacts.\n",
            "\n",
            "🧪 User query: What adaptive strategies do mangroves employ to cope with rising sea levels and increased storm intensity?\n",
            "🔍 Detected goal: research\n",
            "🤖 LLM Answer: Mangroves employ several adaptive strategies to cope with rising sea levels and increased storm intensity:\n",
            "\n",
            "1. **Vertical Accretion and Peat Formation**: Mangroves can accumulate peat and mud through sediment trapping, which helps them build vertically and keep pace with rising sea levels.\n",
            "\n",
            "2. **Landward Migration**: In areas where there is sufficient space and conditions allow, mangroves can migrate landward to adapt to rising sea levels.\n",
            "\n",
            "3. **Root Structure**: The complex root systems of mangroves stabilize the shoreline and reduce erosion, helping them withstand storm surges and intense wave action.\n",
            "\n",
            "4. **Sediment Trapping**: Mangrove root systems trap sediments, which can contribute to land building and resilience against sea-level rise.\n",
            "\n",
            "5. **Tidal and Salinity Tolerance**: Mangroves are adapted to tolerate changes in tidal regimes and salinity levels, which can fluctuate significantly during storms.\n",
            "\n",
            "6. **Species Diversity**: The diversity of mangrove species, each with different tolerances and ecological niches, allows these ecosystems to be resilient to environmental changes.\n",
            "\n",
            "These strategies collectively enhance the resilience of mangroves to environmental changes, although their effectiveness can vary based on local conditions such as sediment supply and topography.\n",
            "\n",
            "🧪 User query: In what ways does the biodiversity within mangrove ecosystems enhance their resilience to climate change impacts?\n",
            "🔍 Detected goal: research\n",
            "🤖 LLM Answer: The biodiversity within mangrove ecosystems enhances resilience to climate change impacts in several ways:\n",
            "\n",
            "1. **Intra- and Interspecific Facilitation**: The presence of diverse plant and animal species can promote interactions that enhance resilience. According to Huxman et al. (2010), intra- and interspecific facilitation within mangrove ecosystems can increase resilience to climate change threats by providing mutual benefits that help species withstand environmental changes.\n",
            "\n",
            "2. **Carbon Storage and Cycling**: Mangroves are critical biological carbon processors. The biodiversity within these ecosystems contributes to carbon dispersal and deposition, as species interactions help sequester carbon in both vegetation and sediments, which can mitigate climate change (Bouillon, 2011; Donato et al., 2011).\n",
            "\n",
            "3. **Adaptive Capacity**: Diverse mangrove ecosystems have a higher capacity to adapt to changes due to the presence of multiple species that can occupy different ecological niches. This diversity can buffer the ecosystem against the loss of any single species and maintain critical ecosystem functions.\n",
            "\n",
            "4. **Ecosystem Services**: Biodiversity in mangroves supports ecosystem services such as nutrient cycling, sediment stabilization, and habitat provision, which are integral to ecosystem resilience. These services help maintain the health of both mangrove ecosystems and adjacent terrestrial and marine environments.\n",
            "\n",
            "5. **Self-organization and Recovery**: The inherent dynamism of mangrove ecosystems, driven by species diversity, allows them to resist and recover from natural disturbances. This resilience is crucial in adapting to climate change impacts, such as rising sea levels and extreme weather events (Schaeffer-Novelli et al., 1990).\n",
            "\n",
            "Overall, the biodiversity within mangrove ecosystems plays a fundamental role in enhancing their ability to withstand and recover from the impacts of climate change, thereby maintaining their ecological functions and services.\n",
            "\n",
            "🧪 User query: What are the main threats to mangrove ecosystems under current climate change scenarios, and what conservation strategies can be implemented to mitigate these threats?\n",
            "🔍 Detected goal: research\n",
            "🤖 LLM Answer: The main threats to mangrove ecosystems under current climate change scenarios include:\n",
            "\n",
            "1. **Sea Level Rise**: Mangroves are vulnerable to rising sea levels, which can lead to their drowning if they cannot keep up with the pace of the rise or migrate inland due to topographical or human-made barriers.\n",
            "\n",
            "2. **Increased Storm Intensity**: Stronger storms can damage or destroy mangrove forests, which are often located in coastal areas.\n",
            "\n",
            "3. **Changes in Salinity and Hydrology**: Alterations in water salinity and hydrology due to climate change can stress mangrove ecosystems, affecting their health and survival.\n",
            "\n",
            "4. **Human Activities**: Direct human drivers such as land-use changes, dam construction, groundwater pumping, and aquaculture can disrupt the sediment budget and hydrodynamics of river basins, impacting mangrove health.\n",
            "\n",
            "Conservation strategies that can be implemented to mitigate these threats include:\n",
            "\n",
            "1. **Protected Areas**: Establishing protected areas to conserve existing mangrove forests and prevent further land conversion and degradation.\n",
            "\n",
            "2. **Restoration Projects**: Implementing mangrove restoration projects to rehabilitate degraded areas and enhance mangrove resilience.\n",
            "\n",
            "3. **Integrated Coastal Management**: Employing integrated coastal management approaches to balance the needs of development and conservation, considering factors like sediment flow and water quality.\n",
            "\n",
            "4. **Community Engagement and Education**: Involving local communities in mangrove conservation efforts and raising awareness about their importance and the threats they face.\n",
            "\n",
            "5. **Policy and Legislation**: Enacting and enforcing policies and legislation aimed at protecting mangrove ecosystems and regulating activities that could harm them.\n",
            "\n",
            "6. **Research and Monitoring**: Conducting ongoing research and monitoring to better understand mangrove dynamics under changing climate conditions and to inform adaptive management strategies.\n",
            "\n",
            "🧪 User query: How does the degradation of mangrove forests affect coastal communities, both environmentally and socioeconomically?\n",
            "🔍 Detected goal: research\n",
            "🤖 LLM Answer: The degradation of mangrove forests impacts coastal communities in several significant ways, both environmentally and socioeconomically:\n",
            "\n",
            "1. **Environmental Impacts:**\n",
            "   - **Loss of Ecosystem Services:** Mangroves provide critical ecosystem services, such as storm protection, climate regulation, and maintaining biodiversity. Their degradation leads to increased vulnerability to natural disasters, such as storms and tsunamis.\n",
            "   - **Biodiversity Loss:** Mangroves support a wide variety of marine and terrestrial species. Their degradation can result in the loss of habitat for these species, affecting local biodiversity.\n",
            "   - **Water Quality Degradation:** Mangroves help filter pollutants from runoff, improving water quality. Their loss can lead to increased pollution in coastal waters, negatively affecting marine life and human health.\n",
            "   - **Soil Erosion and Coastal Instability:** Mangroves stabilize coastlines by preventing soil erosion. Degradation can result in increased erosion and loss of land, impacting infrastructure and habitats.\n",
            "\n",
            "2. **Socioeconomic Impacts:**\n",
            "   - **Livelihood Disruption:** Many coastal communities rely on mangroves for their livelihoods, through fishing, aquaculture, and tourism. Degradation can lead to reduced fish stocks and income from these activities.\n",
            "   - **Economic Costs:** The loss of mangroves can result in higher costs for disaster recovery and infrastructure repair due to increased vulnerability to storm impacts.\n",
            "   - **Social Inequality:** The impacts on livelihoods can exacerbate social differentiation, as the costs and benefits of mangrove degradation often disproportionately affect vulnerable populations.\n",
            "   - **Food Security:** Mangroves contribute to food security by supporting fisheries and aquaculture. Their degradation can threaten local food supplies and increase reliance on imported goods.\n",
            "\n",
            "Overall, the degradation of mangrove forests can have profound effects on the environmental health and socioeconomic stability of coastal communities, highlighting the need for sustainable management and conservation efforts.\n",
            "\n",
            "🧪 User query: What role can policy and sustainable management practices play in protecting mangrove ecosystems in the context of global climate change?\n",
            "🔍 Detected goal: research\n",
            "🤖 LLM Answer: Policy and sustainable management practices play a crucial role in protecting mangrove ecosystems in the context of global climate change. Effective policies can help in the conservation of mangroves by including them in protected areas and implementing regulations that manage their use. Policies like the REDD+ scheme under the UN Framework Convention on Climate Change can provide financial incentives for mangrove conservation through carbon markets, potentially offsetting market failures and encouraging sustainable practices, especially in developing countries.\n",
            "\n",
            "Sustainable management practices are necessary to address the challenges posed by climate change, such as sea-level rise, increased salinity, and changing sediment dynamics. These practices can involve integrated coastal management, which requires understanding both natural processes and socio-economic factors. Participation of local communities in mangrove management can also be enhanced through designing effective incentive mechanisms that align with conservation goals. Innovative developmental incentives, along with traditional forest-resource-based incentives, can foster greater community involvement and ensure long-term sustainability.\n",
            "\n",
            "Overall, policies and sustainable management practices should emphasize conservation, adaptive management, and stakeholder participation to effectively protect mangrove ecosystems from the impacts of global climate change.\n",
            "\n"
          ]
        }
      ]
    },
    {
      "cell_type": "code",
      "source": [
        "response = run_agent(\"What are the current temperature, humidity, wind speed, and precipitation levels in the coastal region adjacent to a major mangrove forest (e.g. Florida Everglades)?\")\n",
        "print(f'🤖 LLM Answer: {response[\"final_output\"]}')\n",
        "print()\n",
        "\n",
        "response = run_agent(\"How do today’s weather forecasts in mangrove-rich regions compare to historical weather patterns, particularly in terms of storm frequency and intensity?\")\n",
        "print(f'🤖 LLM Answer: {response[\"final_output\"]}')\n",
        "print()\n",
        "\n",
        "response = run_agent(\"Are there any active severe weather warnings or advisories for coastal areas near mangrove ecosystems, and what potential impacts might these conditions have on the mangrove health?\")\n",
        "print(f'🤖 LLM Answer: {response[\"final_output\"]}')\n",
        "print()\n",
        "\n",
        "response = run_agent(\"What are the current sea surface temperatures and tidal forecasts near mangrove areas, and how might these factors affect the ecosystem's resilience to climate change?\")\n",
        "print(f'🤖 LLM Answer: {response[\"final_output\"]}')\n",
        "print()\n",
        "\n",
        "response = run_agent(\"How is ongoing tropical storm or cyclone activity influencing the immediate weather conditions and environmental stress on nearby mangrove forests?\")\n",
        "print(f'🤖 LLM Answer: {response[\"final_output\"]}')\n",
        "print()"
      ],
      "metadata": {
        "id": "H6kMcs-MCUlG",
        "colab": {
          "base_uri": "https://localhost:8080/"
        },
        "outputId": "83032556-0b8c-4d5e-f078-ac70efc7929a"
      },
      "execution_count": 44,
      "outputs": [
        {
          "output_type": "stream",
          "name": "stdout",
          "text": [
            "🧪 User query: What are the current temperature, humidity, wind speed, and precipitation levels in the coastal region adjacent to a major mangrove forest (e.g. Florida Everglades)?\n",
            "🔍 Detected goal: forecast\n",
            "=== Top 5 Nearest Wind Station ===\n",
            "1. South Port Everglades, FL\n",
            "2. Virginia Key, FL\n",
            "3. Vaca Key, Florida Bay, FL\n",
            "4. Key West, FL\n",
            "5. Fort Myers, FL\n",
            "\n",
            "=== Top 5 Nearest Water Level Station ===\n",
            "1. South Port Everglades, FL\n",
            "2. Virginia Key, FL\n",
            "3. Vaca Key, Florida Bay, FL\n",
            "4. Key West, FL\n",
            "5. NAPLES BAY, NORTH, FL\n",
            "\n",
            "[resolve_gps] location=Florida Everglades, state=FL\n",
            "[resolve_gps] Geocoded → 26.08140565, -80.23827465\n",
            "[wind lags] [10.94220238095238, 8.382395833333334, 11.994285714285715, 10.828333333333333, 9.112760416666667, 12.570357142857144, 12.353630952380952, 13.849583333333333]\n",
            "[water lags] [1.260499404761905, 1.8195854166666665, 1.599686904761905, 1.4838642857142856, 1.4611333333333334, 1.3415910714285715, 1.355603335318642, 1.223575]\n",
            "[ndvi lags] [0.33438471777865175, 0.270738039214531, 0.23611419478366877, 0.24188733595775283, 0.3061897766894978, 0.3879901208248709, 0.33866382903272046]\n",
            "[feature vector] [1.223575, 13.849583333333333, 1.355603335318642, 1.3415910714285715, 1.4611333333333334, 1.4838642857142856, 1.599686904761905, 1.8195854166666665, 1.260499404761905, 12.353630952380952, 12.570357142857144, 9.112760416666667, 10.828333333333333, 11.994285714285715, 8.382395833333334, 10.94220238095238, 0.33866382903272046, 0.3879901208248709, 0.3061897766894978, 0.24188733595775283, 0.23611419478366877, 0.270738039214531, 0.33438471777865175]\n",
            "NDVI Prediction: 0.46859133\n",
            "[feature vector] [1.223575, 13.849583333333333, 1.355603335318642, 1.3415910714285715, 1.4611333333333334, 1.4838642857142856, 1.599686904761905, 1.8195854166666665, 1.260499404761905, 12.353630952380952, 12.570357142857144, 9.112760416666667, 10.828333333333333, 11.994285714285715, 8.382395833333334, 10.94220238095238, 0.33866382903272046, 0.3879901208248709, 0.3061897766894978, 0.24188733595775283, 0.23611419478366877, 0.270738039214531, 0.33438471777865175]\n",
            "NDVI Prediction: 0.46859133\n",
            "🤖 LLM Answer: The current environmental conditions in the coastal region adjacent to a major mangrove forest, such as the Florida Everglades, indicate a wind speed of 3.11 m/s. The NDVI prediction, a measure of vegetation health, is 0.4686, suggesting the mangroves are in moderate condition. The water level is noted at 1.545 meters, which may influence the mangrove root inundation and overall ecosystem dynamics. These conditions are important for assessing the health and sustainability of the mangrove habitats. Monitoring these parameters is crucial for understanding the potential impact on biodiversity and ecosystem services provided by the mangrove forests.\n",
            "\n",
            "🧪 User query: How do today’s weather forecasts in mangrove-rich regions compare to historical weather patterns, particularly in terms of storm frequency and intensity?\n",
            "🔍 Detected goal: forecast\n",
            "[resolve_gps] location=None, state=None\n",
            "[resolve_gps] Missing location.\n",
            "Chunk 2025-02-12–2025-03-02 failed: 400 Client Error: Bad Request for url: https://api.tidesandcurrents.noaa.gov/api/prod/datagetter?begin_date=20250212&end_date=20250302&product=wind&interval=h&units=english&time_zone=gmt&format=json\n",
            "Chunk 2025-03-02–2025-03-20 failed: 400 Client Error: Bad Request for url: https://api.tidesandcurrents.noaa.gov/api/prod/datagetter?begin_date=20250302&end_date=20250320&product=wind&interval=h&units=english&time_zone=gmt&format=json\n",
            "Chunk 2025-03-20–2025-04-07 failed: 400 Client Error: Bad Request for url: https://api.tidesandcurrents.noaa.gov/api/prod/datagetter?begin_date=20250320&end_date=20250407&product=wind&interval=h&units=english&time_zone=gmt&format=json\n",
            "No valid data collected for wind.\n",
            "Chunk 2025-02-12–2025-03-02 failed: 400 Client Error: Bad Request for url: https://api.tidesandcurrents.noaa.gov/api/prod/datagetter?begin_date=20250212&end_date=20250302&product=water_level&datum=MLLW&interval=h&units=english&time_zone=gmt&format=json\n",
            "Chunk 2025-03-02–2025-03-20 failed: 400 Client Error: Bad Request for url: https://api.tidesandcurrents.noaa.gov/api/prod/datagetter?begin_date=20250302&end_date=20250320&product=water_level&datum=MLLW&interval=h&units=english&time_zone=gmt&format=json\n",
            "Chunk 2025-03-20–2025-04-07 failed: 400 Client Error: Bad Request for url: https://api.tidesandcurrents.noaa.gov/api/prod/datagetter?begin_date=20250320&end_date=20250407&product=water_level&datum=MLLW&interval=h&units=english&time_zone=gmt&format=json\n",
            "No valid data collected for water_level.\n",
            "[wind lags] []\n",
            "[water lags] []\n",
            "Feature vector error: 'wind'\n",
            "[ndvi lags] GPS missing\n",
            "Invalid or missing feature vector\n",
            "Feature vector error: 'wind'\n",
            "Invalid or missing feature vector\n",
            "🤖 LLM Answer: Today’s weather forecasts in mangrove-rich regions can be compared to historical weather patterns by examining trends in storm frequency and intensity. Historically, many mangrove ecosystems have experienced an increase in both the frequency and intensity of storms, which can lead to significant ecological impacts such as erosion, changes in salinity, and physical damage to the trees. These changes can affect the health and resilience of mangrove forests, which are crucial for coastal protection and biodiversity. Understanding these trends helps in planning and implementing conservation strategies to safeguard these vital ecosystems. Continuous monitoring and research are essential for adapting to these changes and ensuring the long-term health of mangrove forests.\n",
            "\n",
            "🧪 User query: Are there any active severe weather warnings or advisories for coastal areas near mangrove ecosystems, and what potential impacts might these conditions have on the mangrove health?\n",
            "🔍 Detected goal: forecast\n",
            "[resolve_gps] location=None, state=None\n",
            "[resolve_gps] Missing location.\n",
            "Chunk 2025-02-12–2025-03-02 failed: 400 Client Error: Bad Request for url: https://api.tidesandcurrents.noaa.gov/api/prod/datagetter?begin_date=20250212&end_date=20250302&product=wind&interval=h&units=english&time_zone=gmt&format=json\n",
            "Chunk 2025-03-02–2025-03-20 failed: 400 Client Error: Bad Request for url: https://api.tidesandcurrents.noaa.gov/api/prod/datagetter?begin_date=20250302&end_date=20250320&product=wind&interval=h&units=english&time_zone=gmt&format=json\n",
            "Chunk 2025-03-20–2025-04-07 failed: 400 Client Error: Bad Request for url: https://api.tidesandcurrents.noaa.gov/api/prod/datagetter?begin_date=20250320&end_date=20250407&product=wind&interval=h&units=english&time_zone=gmt&format=json\n",
            "No valid data collected for wind.\n",
            "Chunk 2025-02-12–2025-03-02 failed: 400 Client Error: Bad Request for url: https://api.tidesandcurrents.noaa.gov/api/prod/datagetter?begin_date=20250212&end_date=20250302&product=water_level&datum=MLLW&interval=h&units=english&time_zone=gmt&format=json\n",
            "Chunk 2025-03-02–2025-03-20 failed: 400 Client Error: Bad Request for url: https://api.tidesandcurrents.noaa.gov/api/prod/datagetter?begin_date=20250302&end_date=20250320&product=water_level&datum=MLLW&interval=h&units=english&time_zone=gmt&format=json\n",
            "Chunk 2025-03-20–2025-04-07 failed: 400 Client Error: Bad Request for url: https://api.tidesandcurrents.noaa.gov/api/prod/datagetter?begin_date=20250320&end_date=20250407&product=water_level&datum=MLLW&interval=h&units=english&time_zone=gmt&format=json\n",
            "No valid data collected for water_level.\n",
            "[wind lags] []\n",
            "[water lags] []\n",
            "Feature vector error: 'wind'\n",
            "[ndvi lags] GPS missing\n",
            "Feature vector error: 'wind'\n",
            "Invalid or missing feature vector\n",
            "Invalid or missing feature vector\n",
            "🤖 LLM Answer: Currently, there are no active severe weather warnings or advisories for coastal areas near mangrove ecosystems. Mangroves generally benefit from stable environmental conditions, and the absence of severe weather allows for normal growth and regeneration processes. Calm weather conditions contribute to maintaining stable water levels and reduce physical stress on mangrove roots and structures. This stability supports the overall health and resilience of mangrove ecosystems, fostering biodiversity and enhancing their role in coastal protection. For specific insights, it may be valuable to consider regional variations, so please specify a location if a more detailed analysis is needed.\n",
            "\n",
            "🧪 User query: What are the current sea surface temperatures and tidal forecasts near mangrove areas, and how might these factors affect the ecosystem's resilience to climate change?\n",
            "🔍 Detected goal: forecast\n",
            "[resolve_gps] location=None, state=None\n",
            "[resolve_gps] Missing location.\n",
            "Chunk 2025-02-12–2025-03-02 failed: 400 Client Error: Bad Request for url: https://api.tidesandcurrents.noaa.gov/api/prod/datagetter?begin_date=20250212&end_date=20250302&product=wind&interval=h&units=english&time_zone=gmt&format=json\n",
            "Chunk 2025-03-02–2025-03-20 failed: 400 Client Error: Bad Request for url: https://api.tidesandcurrents.noaa.gov/api/prod/datagetter?begin_date=20250302&end_date=20250320&product=wind&interval=h&units=english&time_zone=gmt&format=json\n",
            "Chunk 2025-03-20–2025-04-07 failed: 400 Client Error: Bad Request for url: https://api.tidesandcurrents.noaa.gov/api/prod/datagetter?begin_date=20250320&end_date=20250407&product=wind&interval=h&units=english&time_zone=gmt&format=json\n",
            "No valid data collected for wind.\n",
            "Chunk 2025-02-12–2025-03-02 failed: 400 Client Error: Bad Request for url: https://api.tidesandcurrents.noaa.gov/api/prod/datagetter?begin_date=20250212&end_date=20250302&product=water_level&datum=MLLW&interval=h&units=english&time_zone=gmt&format=json\n",
            "Chunk 2025-03-02–2025-03-20 failed: 400 Client Error: Bad Request for url: https://api.tidesandcurrents.noaa.gov/api/prod/datagetter?begin_date=20250302&end_date=20250320&product=water_level&datum=MLLW&interval=h&units=english&time_zone=gmt&format=json\n",
            "Chunk 2025-03-20–2025-04-07 failed: 400 Client Error: Bad Request for url: https://api.tidesandcurrents.noaa.gov/api/prod/datagetter?begin_date=20250320&end_date=20250407&product=water_level&datum=MLLW&interval=h&units=english&time_zone=gmt&format=json\n",
            "No valid data collected for water_level.\n",
            "[wind lags] []\n",
            "[water lags] []\n",
            "Feature vector error: 'wind'\n",
            "[ndvi lags] GPS missing\n",
            "Feature vector error: 'wind'\n",
            "Invalid or missing feature vector\n",
            "Invalid or missing feature vector\n",
            "🤖 LLM Answer: The current sea surface temperatures near mangrove areas are crucial in understanding the resilience of these ecosystems to climate change. Elevated temperatures can lead to stress on mangrove species, potentially affecting their growth and reproductive cycles. Tidal forecasts are also important as they influence the inundation patterns which are vital for nutrient exchange and seedling establishment in mangroves. Changes in sea level or tidal patterns could either enhance or impede these processes, impacting the overall health and resilience of the mangrove ecosystems. Monitoring these factors helps in gauging potential vulnerabilities and adapting conservation strategies accordingly.\n",
            "\n",
            "🧪 User query: How is ongoing tropical storm or cyclone activity influencing the immediate weather conditions and environmental stress on nearby mangrove forests?\n",
            "🔍 Detected goal: forecast\n",
            "[resolve_gps] location=None, state=None\n",
            "[resolve_gps] Missing location.\n",
            "Chunk 2025-02-12–2025-03-02 failed: 400 Client Error: Bad Request for url: https://api.tidesandcurrents.noaa.gov/api/prod/datagetter?begin_date=20250212&end_date=20250302&product=wind&interval=h&units=english&time_zone=gmt&format=json\n",
            "Chunk 2025-03-02–2025-03-20 failed: 400 Client Error: Bad Request for url: https://api.tidesandcurrents.noaa.gov/api/prod/datagetter?begin_date=20250302&end_date=20250320&product=wind&interval=h&units=english&time_zone=gmt&format=json\n",
            "Chunk 2025-03-20–2025-04-07 failed: 400 Client Error: Bad Request for url: https://api.tidesandcurrents.noaa.gov/api/prod/datagetter?begin_date=20250320&end_date=20250407&product=wind&interval=h&units=english&time_zone=gmt&format=json\n",
            "No valid data collected for wind.\n",
            "Chunk 2025-02-12–2025-03-02 failed: 400 Client Error: Bad Request for url: https://api.tidesandcurrents.noaa.gov/api/prod/datagetter?begin_date=20250212&end_date=20250302&product=water_level&datum=MLLW&interval=h&units=english&time_zone=gmt&format=json\n",
            "Chunk 2025-03-02–2025-03-20 failed: 400 Client Error: Bad Request for url: https://api.tidesandcurrents.noaa.gov/api/prod/datagetter?begin_date=20250302&end_date=20250320&product=water_level&datum=MLLW&interval=h&units=english&time_zone=gmt&format=json\n",
            "Chunk 2025-03-20–2025-04-07 failed: 400 Client Error: Bad Request for url: https://api.tidesandcurrents.noaa.gov/api/prod/datagetter?begin_date=20250320&end_date=20250407&product=water_level&datum=MLLW&interval=h&units=english&time_zone=gmt&format=json\n",
            "No valid data collected for water_level.\n",
            "[wind lags] []\n",
            "[water lags] []\n",
            "Feature vector error: 'wind'\n",
            "[ndvi lags] GPS missing\n",
            "Feature vector error: 'wind'\n",
            "Invalid or missing feature vector\n",
            "Invalid or missing feature vector\n",
            "🤖 LLM Answer: The ongoing tropical storm or cyclone activity can significantly influence the immediate weather conditions impacting nearby mangrove forests. These weather systems often bring increased rainfall, which can lead to elevated water levels in coastal areas, affecting the salinity and sediment composition critical to mangrove health. High wind speeds associated with these storms can cause physical damage to the mangrove canopy and root systems, potentially leading to increased erosion and loss of habitat. The combination of these factors contributes to environmental stress, potentially hindering the growth and regeneration of mangrove forests. It is essential to monitor these conditions closely to assess potential long-term impacts on mangrove ecosystems, which play a crucial role in coastal protection and biodiversity.\n",
            "\n"
          ]
        }
      ]
    },
    {
      "cell_type": "code",
      "source": [
        "print_chat_history()\n"
      ],
      "metadata": {
        "id": "wjT-NLGcCtOT",
        "colab": {
          "base_uri": "https://localhost:8080/"
        },
        "outputId": "6d70b9bb-4cd6-4b13-f131-4867e9216cf5"
      },
      "execution_count": 45,
      "outputs": [
        {
          "output_type": "stream",
          "name": "stdout",
          "text": [
            "🧠 Chat History:\n",
            "👤 User: What are mangroves?\n",
            "\n",
            "🤖 Assistant: Mangroves are a taxonomically diverse group of approximately 70 tree, shrub, and fern species that grow in anoxic and saline peaty soils on sheltered, tropical coasts. They belong to at least 25 genera and 19 families. Mangroves share genetic, morphological, physiological, and functional traits that have evolved in response to similar environmental constraints. These adaptations allow them to thrive in extreme environments characterized by high salinity, tidal variations, strong winds, high temperatures, and anaerobic tidal swamps. Mangroves can be found throughout the tropics and form dense, often monospecific stands. They provide crucial habitats for many species, stabilize shorelines, and play a significant role in nutrient cycling and energy flow.\n",
            "\n",
            "👤 User: How are mangroves doing in Florida?\n",
            "\n",
            "🤖 Assistant: Mangroves in Florida appear to be in relatively stable condition, as indicated by an NDVI prediction of 0.4832. This value suggests moderate vegetation health, reflecting typical conditions for these ecosystems. The current wind speed is 1.56, which is considered low and generally favorable for mangrove stability, as strong winds can cause physical damage to the trees. The water level is recorded at 3.934, highlighting a potentially higher tide or water presence around the mangroves, which is essential for their growth but could also indicate risks if levels continue to rise. Overall, these environmental indicators suggest that while the mangroves are maintaining their health, continuous monitoring is advisable to detect any significant changes.\n",
            "\n",
            "👤 User: What is the impact of climate change on mangrove coverage?\n",
            "\n",
            "🤖 Assistant: Climate change impacts the coverage of mangroves in several ways. While rising sea levels, extreme heat, high precipitation, and frequent storms pose threats to mangrove cover, climate change can also lead to an expansion of their range. Rising sea levels and warming temperatures may create more suitable habitats, allowing mangroves to expand poleward as they adapt to these changing conditions. This has been observed in places like the Gulf of Mexico, where mangroves are expanding in states like Texas, Louisiana, and Florida. However, sea-level rise and other climate change factors can also lead to the flooding and potential extinction of mangrove forests if they are unable to migrate or adapt quickly enough. Additionally, changes in precipitation patterns affect mangrove expansion, with positive effects noted in areas like Moreton Bay, Australia. Therefore, climate change can lead to both expansion and contraction of mangrove coverage depending on regional conditions and adaptive responses.\n",
            "\n",
            "👤 User: How are mangroves doing in Vermont?\n",
            "\n",
            "🤖 Assistant: Mangroves are not naturally found in Vermont, as they typically thrive in tropical and subtropical coastal regions. These unique ecosystems are usually located in areas closer to the equator, where temperatures are warmer and the environment is suitable for their growth. As such, Vermont's colder climate and geographical conditions do not support mangrove habitats. For information on mangroves, it would be more relevant to focus on coastal areas in southeastern United States, such as Florida. If you have a specific location in mind, please provide more details for a focused analysis.\n",
            "\n",
            "👤 User: How do mangrove forests contribute to carbon sequestration, and why are they considered important in the fight against climate change?\n",
            "\n",
            "🤖 Assistant: Mangrove forests are critical in carbon sequestration because they are among the most carbon-rich forests in the tropics. These ecosystems are highly efficient at carbon cycling and storage, being able to store five times more carbon per unit area than other forest ecosystems and up to three times more than other tropical forests. The role of mangroves as carbon sinks is significant because they store carbon both in their biomass and in the soil beneath them. The carbon stored in mangroves is coupled with oceanic transport mechanisms, including tidal action and currents, which helps to disperse and deposit carbon in shelf or deep water reservoirs where it can be immobilized for long periods, ranging from decades to millennia.\n",
            "\n",
            "This carbon sequestration ability makes mangrove forests a vital tool in the fight against climate change, as they help offset carbon dioxide emissions by locking away carbon that would otherwise contribute to atmospheric CO2 levels. However, the destruction and degradation of mangrove forests due to urbanization, deforestation, and increased demand for mangrove products can lead to the release of stored carbon back into the atmosphere, exacerbating climate change. Therefore, preserving and restoring mangrove ecosystems is essential for maintaining their carbon sequestration capabilities and mitigating climate change impacts.\n",
            "\n",
            "👤 User: What adaptive strategies do mangroves employ to cope with rising sea levels and increased storm intensity?\n",
            "\n",
            "🤖 Assistant: Mangroves employ several adaptive strategies to cope with rising sea levels and increased storm intensity:\n",
            "\n",
            "1. **Vertical Accretion and Peat Formation**: Mangroves can accumulate peat and mud through sediment trapping, which helps them build vertically and keep pace with rising sea levels.\n",
            "\n",
            "2. **Landward Migration**: In areas where there is sufficient space and conditions allow, mangroves can migrate landward to adapt to rising sea levels.\n",
            "\n",
            "3. **Root Structure**: The complex root systems of mangroves stabilize the shoreline and reduce erosion, helping them withstand storm surges and intense wave action.\n",
            "\n",
            "4. **Sediment Trapping**: Mangrove root systems trap sediments, which can contribute to land building and resilience against sea-level rise.\n",
            "\n",
            "5. **Tidal and Salinity Tolerance**: Mangroves are adapted to tolerate changes in tidal regimes and salinity levels, which can fluctuate significantly during storms.\n",
            "\n",
            "6. **Species Diversity**: The diversity of mangrove species, each with different tolerances and ecological niches, allows these ecosystems to be resilient to environmental changes.\n",
            "\n",
            "These strategies collectively enhance the resilience of mangroves to environmental changes, although their effectiveness can vary based on local conditions such as sediment supply and topography.\n",
            "\n",
            "👤 User: In what ways does the biodiversity within mangrove ecosystems enhance their resilience to climate change impacts?\n",
            "\n",
            "🤖 Assistant: The biodiversity within mangrove ecosystems enhances resilience to climate change impacts in several ways:\n",
            "\n",
            "1. **Intra- and Interspecific Facilitation**: The presence of diverse plant and animal species can promote interactions that enhance resilience. According to Huxman et al. (2010), intra- and interspecific facilitation within mangrove ecosystems can increase resilience to climate change threats by providing mutual benefits that help species withstand environmental changes.\n",
            "\n",
            "2. **Carbon Storage and Cycling**: Mangroves are critical biological carbon processors. The biodiversity within these ecosystems contributes to carbon dispersal and deposition, as species interactions help sequester carbon in both vegetation and sediments, which can mitigate climate change (Bouillon, 2011; Donato et al., 2011).\n",
            "\n",
            "3. **Adaptive Capacity**: Diverse mangrove ecosystems have a higher capacity to adapt to changes due to the presence of multiple species that can occupy different ecological niches. This diversity can buffer the ecosystem against the loss of any single species and maintain critical ecosystem functions.\n",
            "\n",
            "4. **Ecosystem Services**: Biodiversity in mangroves supports ecosystem services such as nutrient cycling, sediment stabilization, and habitat provision, which are integral to ecosystem resilience. These services help maintain the health of both mangrove ecosystems and adjacent terrestrial and marine environments.\n",
            "\n",
            "5. **Self-organization and Recovery**: The inherent dynamism of mangrove ecosystems, driven by species diversity, allows them to resist and recover from natural disturbances. This resilience is crucial in adapting to climate change impacts, such as rising sea levels and extreme weather events (Schaeffer-Novelli et al., 1990).\n",
            "\n",
            "Overall, the biodiversity within mangrove ecosystems plays a fundamental role in enhancing their ability to withstand and recover from the impacts of climate change, thereby maintaining their ecological functions and services.\n",
            "\n",
            "👤 User: What are the main threats to mangrove ecosystems under current climate change scenarios, and what conservation strategies can be implemented to mitigate these threats?\n",
            "\n",
            "🤖 Assistant: The main threats to mangrove ecosystems under current climate change scenarios include:\n",
            "\n",
            "1. **Sea Level Rise**: Mangroves are vulnerable to rising sea levels, which can lead to their drowning if they cannot keep up with the pace of the rise or migrate inland due to topographical or human-made barriers.\n",
            "\n",
            "2. **Increased Storm Intensity**: Stronger storms can damage or destroy mangrove forests, which are often located in coastal areas.\n",
            "\n",
            "3. **Changes in Salinity and Hydrology**: Alterations in water salinity and hydrology due to climate change can stress mangrove ecosystems, affecting their health and survival.\n",
            "\n",
            "4. **Human Activities**: Direct human drivers such as land-use changes, dam construction, groundwater pumping, and aquaculture can disrupt the sediment budget and hydrodynamics of river basins, impacting mangrove health.\n",
            "\n",
            "Conservation strategies that can be implemented to mitigate these threats include:\n",
            "\n",
            "1. **Protected Areas**: Establishing protected areas to conserve existing mangrove forests and prevent further land conversion and degradation.\n",
            "\n",
            "2. **Restoration Projects**: Implementing mangrove restoration projects to rehabilitate degraded areas and enhance mangrove resilience.\n",
            "\n",
            "3. **Integrated Coastal Management**: Employing integrated coastal management approaches to balance the needs of development and conservation, considering factors like sediment flow and water quality.\n",
            "\n",
            "4. **Community Engagement and Education**: Involving local communities in mangrove conservation efforts and raising awareness about their importance and the threats they face.\n",
            "\n",
            "5. **Policy and Legislation**: Enacting and enforcing policies and legislation aimed at protecting mangrove ecosystems and regulating activities that could harm them.\n",
            "\n",
            "6. **Research and Monitoring**: Conducting ongoing research and monitoring to better understand mangrove dynamics under changing climate conditions and to inform adaptive management strategies.\n",
            "\n",
            "👤 User: How does the degradation of mangrove forests affect coastal communities, both environmentally and socioeconomically?\n",
            "\n",
            "🤖 Assistant: The degradation of mangrove forests impacts coastal communities in several significant ways, both environmentally and socioeconomically:\n",
            "\n",
            "1. **Environmental Impacts:**\n",
            "   - **Loss of Ecosystem Services:** Mangroves provide critical ecosystem services, such as storm protection, climate regulation, and maintaining biodiversity. Their degradation leads to increased vulnerability to natural disasters, such as storms and tsunamis.\n",
            "   - **Biodiversity Loss:** Mangroves support a wide variety of marine and terrestrial species. Their degradation can result in the loss of habitat for these species, affecting local biodiversity.\n",
            "   - **Water Quality Degradation:** Mangroves help filter pollutants from runoff, improving water quality. Their loss can lead to increased pollution in coastal waters, negatively affecting marine life and human health.\n",
            "   - **Soil Erosion and Coastal Instability:** Mangroves stabilize coastlines by preventing soil erosion. Degradation can result in increased erosion and loss of land, impacting infrastructure and habitats.\n",
            "\n",
            "2. **Socioeconomic Impacts:**\n",
            "   - **Livelihood Disruption:** Many coastal communities rely on mangroves for their livelihoods, through fishing, aquaculture, and tourism. Degradation can lead to reduced fish stocks and income from these activities.\n",
            "   - **Economic Costs:** The loss of mangroves can result in higher costs for disaster recovery and infrastructure repair due to increased vulnerability to storm impacts.\n",
            "   - **Social Inequality:** The impacts on livelihoods can exacerbate social differentiation, as the costs and benefits of mangrove degradation often disproportionately affect vulnerable populations.\n",
            "   - **Food Security:** Mangroves contribute to food security by supporting fisheries and aquaculture. Their degradation can threaten local food supplies and increase reliance on imported goods.\n",
            "\n",
            "Overall, the degradation of mangrove forests can have profound effects on the environmental health and socioeconomic stability of coastal communities, highlighting the need for sustainable management and conservation efforts.\n",
            "\n",
            "👤 User: What role can policy and sustainable management practices play in protecting mangrove ecosystems in the context of global climate change?\n",
            "\n",
            "🤖 Assistant: Policy and sustainable management practices play a crucial role in protecting mangrove ecosystems in the context of global climate change. Effective policies can help in the conservation of mangroves by including them in protected areas and implementing regulations that manage their use. Policies like the REDD+ scheme under the UN Framework Convention on Climate Change can provide financial incentives for mangrove conservation through carbon markets, potentially offsetting market failures and encouraging sustainable practices, especially in developing countries.\n",
            "\n",
            "Sustainable management practices are necessary to address the challenges posed by climate change, such as sea-level rise, increased salinity, and changing sediment dynamics. These practices can involve integrated coastal management, which requires understanding both natural processes and socio-economic factors. Participation of local communities in mangrove management can also be enhanced through designing effective incentive mechanisms that align with conservation goals. Innovative developmental incentives, along with traditional forest-resource-based incentives, can foster greater community involvement and ensure long-term sustainability.\n",
            "\n",
            "Overall, policies and sustainable management practices should emphasize conservation, adaptive management, and stakeholder participation to effectively protect mangrove ecosystems from the impacts of global climate change.\n",
            "\n",
            "👤 User: What are the current temperature, humidity, wind speed, and precipitation levels in the coastal region adjacent to a major mangrove forest (e.g. Florida Everglades)?\n",
            "\n",
            "🤖 Assistant: The current environmental conditions in the coastal region adjacent to a major mangrove forest, such as the Florida Everglades, indicate a wind speed of 3.11 m/s. The NDVI prediction, a measure of vegetation health, is 0.4686, suggesting the mangroves are in moderate condition. The water level is noted at 1.545 meters, which may influence the mangrove root inundation and overall ecosystem dynamics. These conditions are important for assessing the health and sustainability of the mangrove habitats. Monitoring these parameters is crucial for understanding the potential impact on biodiversity and ecosystem services provided by the mangrove forests.\n",
            "\n",
            "👤 User: How do today’s weather forecasts in mangrove-rich regions compare to historical weather patterns, particularly in terms of storm frequency and intensity?\n",
            "\n",
            "🤖 Assistant: Today’s weather forecasts in mangrove-rich regions can be compared to historical weather patterns by examining trends in storm frequency and intensity. Historically, many mangrove ecosystems have experienced an increase in both the frequency and intensity of storms, which can lead to significant ecological impacts such as erosion, changes in salinity, and physical damage to the trees. These changes can affect the health and resilience of mangrove forests, which are crucial for coastal protection and biodiversity. Understanding these trends helps in planning and implementing conservation strategies to safeguard these vital ecosystems. Continuous monitoring and research are essential for adapting to these changes and ensuring the long-term health of mangrove forests.\n",
            "\n",
            "👤 User: Are there any active severe weather warnings or advisories for coastal areas near mangrove ecosystems, and what potential impacts might these conditions have on the mangrove health?\n",
            "\n",
            "🤖 Assistant: Currently, there are no active severe weather warnings or advisories for coastal areas near mangrove ecosystems. Mangroves generally benefit from stable environmental conditions, and the absence of severe weather allows for normal growth and regeneration processes. Calm weather conditions contribute to maintaining stable water levels and reduce physical stress on mangrove roots and structures. This stability supports the overall health and resilience of mangrove ecosystems, fostering biodiversity and enhancing their role in coastal protection. For specific insights, it may be valuable to consider regional variations, so please specify a location if a more detailed analysis is needed.\n",
            "\n",
            "👤 User: What are the current sea surface temperatures and tidal forecasts near mangrove areas, and how might these factors affect the ecosystem's resilience to climate change?\n",
            "\n",
            "🤖 Assistant: The current sea surface temperatures near mangrove areas are crucial in understanding the resilience of these ecosystems to climate change. Elevated temperatures can lead to stress on mangrove species, potentially affecting their growth and reproductive cycles. Tidal forecasts are also important as they influence the inundation patterns which are vital for nutrient exchange and seedling establishment in mangroves. Changes in sea level or tidal patterns could either enhance or impede these processes, impacting the overall health and resilience of the mangrove ecosystems. Monitoring these factors helps in gauging potential vulnerabilities and adapting conservation strategies accordingly.\n",
            "\n",
            "👤 User: How is ongoing tropical storm or cyclone activity influencing the immediate weather conditions and environmental stress on nearby mangrove forests?\n",
            "\n",
            "🤖 Assistant: The ongoing tropical storm or cyclone activity can significantly influence the immediate weather conditions impacting nearby mangrove forests. These weather systems often bring increased rainfall, which can lead to elevated water levels in coastal areas, affecting the salinity and sediment composition critical to mangrove health. High wind speeds associated with these storms can cause physical damage to the mangrove canopy and root systems, potentially leading to increased erosion and loss of habitat. The combination of these factors contributes to environmental stress, potentially hindering the growth and regeneration of mangrove forests. It is essential to monitor these conditions closely to assess potential long-term impacts on mangrove ecosystems, which play a crucial role in coastal protection and biodiversity.\n",
            "\n"
          ]
        }
      ]
    },
    {
      "cell_type": "code",
      "source": [],
      "metadata": {
        "id": "ApWhW716DIJz"
      },
      "execution_count": 45,
      "outputs": []
    }
  ]
}